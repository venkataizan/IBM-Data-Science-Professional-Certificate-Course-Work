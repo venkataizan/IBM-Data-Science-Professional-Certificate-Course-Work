{
 "cells": [
  {
   "cell_type": "markdown",
   "metadata": {},
   "source": [
    "<a href=\"https://cognitiveclass.ai/?utm_medium=Exinfluencer&utm_source=Exinfluencer&utm_content=000026UJ&utm_term=10006555&utm_id=NA-SkillsNetwork-Channel-SkillsNetworkCoursesIBMDeveloperSkillsNetworkPY0101ENSkillsNetwork19487395-2022-01-01\">\n",
    "    <img src=\"https://s3-api.us-geo.objectstorage.softlayer.net/cf-courses-data/CognitiveClass/PY0101EN/Ad/CCLog.png\" width=\"200\" align=\"center\">\n",
    "</a>\n"
   ]
  },
  {
   "cell_type": "markdown",
   "metadata": {},
   "source": [
    "<h1> HTTP and Requests</h1>\n",
    "\n",
    "Estimated time needed: **15** minutes\n",
    "\n",
    "## Objectives\n",
    "\n",
    "After completing this lab you will be able to:\n",
    "\n",
    "*   Understand HTTP\n",
    "*   Handle HTTP Requests\n"
   ]
  },
  {
   "cell_type": "markdown",
   "metadata": {},
   "source": [
    "<h2>Table of Contents</h2>\n",
    "\n",
    "<div class=\"alert alert-block alert-info\" style=\"margin-top: 20px\">\n",
    "    <ul>\n",
    "        <li>\n",
    "            <a href=\"https://#index\">Overview of HTTP </a>\n",
    "            <ul>\n",
    "                <li><a href=\"https://#HTTP\">Uniform Resource Locator:URL</a></li>\n",
    "                 <li><a href=\"https://slice/?utm_medium=Exinfluencer&utm_source=Exinfluencer&utm_content=000026UJ&utm_term=10006555&utm_id=NA-SkillsNetwork-Channel-SkillsNetworkCoursesIBMDeveloperSkillsNetworkPY0101ENSkillsNetwork19487395-2022-01-01\">Request</a></li>\n",
    "                <li><a href=\"https://stride/?utm_medium=Exinfluencer&utm_source=Exinfluencer&utm_content=000026UJ&utm_term=10006555&utm_id=NA-SkillsNetwork-Channel-SkillsNetworkCoursesIBMDeveloperSkillsNetworkPY0101ENSkillsNetwork19487395-2022-01-01\">Response</a></li>\n",
    "            </ul>\n",
    "        </li>\n",
    "        <li>\n",
    "            <a href=\"https://#RP\">Requests in Python  </a>\n",
    "            <ul>\n",
    "                <li><a href=\"https://#get\">Get Request with URL Parameters</a></li>\n",
    "                <li><a href=\"https://#post\">Post Requests </a></li>\n",
    "\n",
    "</ul>\n",
    "\n",
    "</div>\n",
    "\n",
    "<hr>\n"
   ]
  },
  {
   "cell_type": "markdown",
   "metadata": {},
   "source": [
    "<h2 id=\"\">Overview of HTTP </h2>\n"
   ]
  },
  {
   "cell_type": "markdown",
   "metadata": {},
   "source": [
    "When you, the **client**, use a web page your browser sends an **HTTP** request to the **server** where the page is hosted. The server tries to find the desired **resource** by default \"<code>index.html</code>\". If your request is successful, the server will send the object to the client in an **HTTP response**. This includes information like the type of the **resource**, the length of the **resource**, and other information.\n",
    "\n",
    "<p>\n",
    "The figure below represents the process. The circle on the left represents the client, the circle on the right represents the Web server. The table under the Web server represents a list of resources stored in the web server. In  this case an <code>HTML</code> file, <code>png</code> image, and <code>txt</code> file .\n",
    "</p>\n",
    "<p>\n",
    "The <b>HTTP</b> protocol allows you to send and receive information through the web including webpages, images, and other web resources. In this lab, we will provide an overview of the Requests library for interacting with the <code>HTTP</code> protocol. \n",
    "</p\n"
   ]
  },
  {
   "cell_type": "markdown",
   "metadata": {},
   "source": [
    "<div class=\"alert alert-block alert-info\" style=\"margin-top: 20px\">\n",
    "         <img src=\"https://cf-courses-data.s3.us.cloud-object-storage.appdomain.cloud/IBMDeveloperSkillsNetwork-PY0101EN-SkillsNetwork/labs/Module%205/images/reqest_basics.png\" width=\"750\" align=\"center\">\n",
    "\n",
    "</div>\n"
   ]
  },
  {
   "cell_type": "markdown",
   "metadata": {},
   "source": [
    "<h2 id=\"URL\">Uniform Resource Locator: URL</h2>\n"
   ]
  },
  {
   "cell_type": "markdown",
   "metadata": {},
   "source": [
    "Uniform resource locator (URL) is the most popular way to find resources on the web.  We can break the URL into three parts.\n",
    "\n",
    "<ul>\n",
    "    <li><b>scheme</b> this is this protocol, for this lab it will always be <code>http://</code>  </li>\n",
    "    <li><b> Internet address or  Base URL </b> this will be used to find the location here are some examples: <code>www.ibm.com</code> and  <code> www.gitlab.com </code> </li>\n",
    "    <li><b>route</b> location on the web server for example: <code>/images/IDSNlogo.png</code> </li>\n",
    "</ul>\n"
   ]
  },
  {
   "cell_type": "markdown",
   "metadata": {},
   "source": [
    "You may also hear the term Uniform Resource Identifier (URI), URL are actually a subset of URIs. Another popular term is endpoint, this is the URL of an operation provided by a Web server.\n"
   ]
  },
  {
   "cell_type": "markdown",
   "metadata": {},
   "source": [
    "<h2 id=\"RE\">Request </h2>\n"
   ]
  },
  {
   "cell_type": "markdown",
   "metadata": {},
   "source": [
    "The process can be broken into the <b>request</b> and <b>response </b> process.  The request using the get method is partially illustrated below. In the start line we have the <code>GET</code> method, this is an <code>HTTP</code> method. Also the location of the resource  <code>/index.html</code> and the <code>HTTP</code> version. The Request header passes additional information with an <code>HTTP</code> request:\n"
   ]
  },
  {
   "cell_type": "markdown",
   "metadata": {},
   "source": [
    "<div class=\"alert alert-block alert-info\" style=\"margin-top: 20px\">\n",
    "         <img src=\"https://cf-courses-data.s3.us.cloud-object-storage.appdomain.cloud/IBMDeveloperSkillsNetwork-PY0101EN-SkillsNetwork/labs/Module%205/images/reqest_messege.png\" width=\"400\" align=\"center\">\n",
    "</div>\n"
   ]
  },
  {
   "cell_type": "markdown",
   "metadata": {},
   "source": [
    "When an <code>HTTP</code> request is made, an <code>HTTP</code> method is sent, this tells the server what action to perform.  A list of several <code>HTTP</code> methods is shown below. We will go over more examples later.\n"
   ]
  },
  {
   "cell_type": "markdown",
   "metadata": {},
   "source": [
    "<div class=\"alert alert-block alert-info\" style=\"margin-top: 20px\">\n",
    "         <img src=\"https://cf-courses-data.s3.us.cloud-object-storage.appdomain.cloud/IBMDeveloperSkillsNetwork-PY0101EN-SkillsNetwork/labs/Module%205/images/http_methods.png\" width=\"400\" align=\"center\">\n",
    "</div>\n"
   ]
  },
  {
   "cell_type": "markdown",
   "metadata": {},
   "source": [
    "<h2 id=\"RES\">Response</h2>\n"
   ]
  },
  {
   "cell_type": "markdown",
   "metadata": {},
   "source": [
    "The figure below represents the response; the response start line contains the version number <code>HTTP/1.0</code>, a status code (200) meaning success, followed by a descriptive phrase (OK). The response header contains useful information. Finally, we have the response body containing the requested file, an <code> HTML </code> document.  It should be noted that some requests have headers.\n"
   ]
  },
  {
   "cell_type": "markdown",
   "metadata": {},
   "source": [
    "<div class=\"alert alert-block alert-info\" style=\"margin-top: 20px\">\n",
    "         <img src=\"https://cf-courses-data.s3.us.cloud-object-storage.appdomain.cloud/IBMDeveloperSkillsNetwork-PY0101EN-SkillsNetwork/labs/Module%205/images/response_message.png\" width=\"400\" align=\"center\">\n",
    "</div>\n"
   ]
  },
  {
   "cell_type": "markdown",
   "metadata": {},
   "source": [
    "Some status code examples are shown in the table below, the prefix indicates the class. These are shown in yellow, with actual status codes shown in  white. Check out the following <a href=\"https://developer.mozilla.org/en-US/docs/Web/HTTP/Status?utm_medium=Exinfluencer&utm_source=Exinfluencer&utm_content=000026UJ&utm_term=10006555&utm_id=NA-SkillsNetwork-Channel-SkillsNetworkCoursesIBMDeveloperSkillsNetworkPY0101ENSkillsNetwork19487395-2022-01-01\">link </a> for more descriptions.\n"
   ]
  },
  {
   "cell_type": "markdown",
   "metadata": {},
   "source": [
    "<div class=\"alert alert-block alert-info\" style=\"margin-top: 20px\">\n",
    "         <img src=\"https://cf-courses-data.s3.us.cloud-object-storage.appdomain.cloud/IBMDeveloperSkillsNetwork-PY0101EN-SkillsNetwork/labs/Module%205/images/status_code.png\" width=\"300\" align=\"center\">\n",
    "</div>\n"
   ]
  },
  {
   "cell_type": "markdown",
   "metadata": {},
   "source": [
    "<h2 id=\"RP\">Requests in Python</h2>\n"
   ]
  },
  {
   "cell_type": "markdown",
   "metadata": {},
   "source": [
    "Requests is a Python Library that allows you to send <code>HTTP/1.1</code> requests easily. We can import the library as follows:\n"
   ]
  },
  {
   "cell_type": "code",
   "execution_count": 1,
   "metadata": {},
   "outputs": [],
   "source": [
    "import requests"
   ]
  },
  {
   "cell_type": "markdown",
   "metadata": {},
   "source": [
    "We will also use the following libraries:\n"
   ]
  },
  {
   "cell_type": "code",
   "execution_count": 3,
   "metadata": {},
   "outputs": [],
   "source": [
    "import os \n",
    "from PIL import Image\n",
    "from IPython.display import IFrame"
   ]
  },
  {
   "cell_type": "markdown",
   "metadata": {},
   "source": [
    "You can make a <code>GET</code> request via the method <code>get</code> to [www.ibm.com](http://www.ibm.com/?utm_medium=Exinfluencer&utm_source=Exinfluencer&utm_content=000026UJ&utm_term=10006555&utm_id=NA-SkillsNetwork-Channel-SkillsNetworkCoursesIBMDeveloperSkillsNetworkPY0101ENSkillsNetwork19487395-2022-01-01):\n"
   ]
  },
  {
   "cell_type": "code",
   "execution_count": 4,
   "metadata": {},
   "outputs": [],
   "source": [
    "url='https://www.ibm.com/'\n",
    "r=requests.get(url)\n"
   ]
  },
  {
   "cell_type": "markdown",
   "metadata": {},
   "source": [
    "We have the response object <code>r</code>, this has information about the request, like the status of the request. We can view the status code using the attribute <code>status_code</code>.\n"
   ]
  },
  {
   "cell_type": "code",
   "execution_count": 5,
   "metadata": {},
   "outputs": [
    {
     "data": {
      "text/plain": [
       "200"
      ]
     },
     "execution_count": 5,
     "metadata": {},
     "output_type": "execute_result"
    }
   ],
   "source": [
    "r.status_code"
   ]
  },
  {
   "cell_type": "markdown",
   "metadata": {},
   "source": [
    "You can view the request headers:\n"
   ]
  },
  {
   "cell_type": "code",
   "execution_count": 6,
   "metadata": {},
   "outputs": [
    {
     "name": "stdout",
     "output_type": "stream",
     "text": [
      "{'User-Agent': 'python-requests/2.28.1', 'Accept-Encoding': 'gzip, deflate, br', 'Accept': '*/*', 'Connection': 'keep-alive', 'Cookie': '_abck=1A77C856DEE5706C62B708233D7F8420~-1~YAAQz2vcFzshjD+EAQAAHIeFSAgZJj10A6Ogt8yqLWR2/U81FZ0SzJ3aW/Twu1JAf8c0cwKEXwkc41n9EK1skgWIc/7TWtIYqdEidjOJiN8eAjAU9gqEjQFj5Q1kwABgBMJi+WsjKwkhlB9D5serUzSHgGWvlozbBjqJxDLjgtgSB3F6kiNWsO4AgLHd1Ju1Jp++55f/dieZq0kRDRB3VzAsGsp7f28nA2omh+6iLKeEMAxomiyw5hAVp9kLOTI9sCGwJbf2keZZmN5oeo+9UmanYRhU2uZl/xqRKOptvNonx9+boLNWevn8T7cKjAI1+mdi7d5KZlx75VoYmSJYuegpkn5nsjLJUh/xeeqkEDGg4KaKtM0=~-1~-1~-1; bm_sz=309E205572878FE21E7844A1CCC2D9A3~YAAQz2vcFzwhjD+EAQAAHIeFSBFAmClhfRb/1YR7/wbV2yFqOi/yWJx8ChqWKq8MBs6zxnj9GxAFiE/vBr5vM23nPFrjiFiWmuMKivSABdT3e0O6LhtXg67CYliPKX2DLSa9UKs5d4ONj0+LNXP73O0Oh4juqx1JV6wM2XmwNVedUDfNcCkMvoq5F7wvTsKCu/r7f/g2qqA2owyoT0w2AHiL0F18R97IJy9GtY+4DKsRD7fT7zRPwwnVzXQfsxe2TaTnjYRGphtqPD5vXQxoyluhiFC4HZCzzNwW1OjJ8o4=~3618869~3491126'}\n"
     ]
    }
   ],
   "source": [
    "print(r.request.headers)"
   ]
  },
  {
   "cell_type": "markdown",
   "metadata": {},
   "source": [
    "You can view the request body, in the following line, as there is no body for a get request we get a <code>None</code>:\n"
   ]
  },
  {
   "cell_type": "code",
   "execution_count": 7,
   "metadata": {},
   "outputs": [
    {
     "name": "stdout",
     "output_type": "stream",
     "text": [
      "request body: None\n"
     ]
    }
   ],
   "source": [
    "print(\"request body:\", r.request.body)"
   ]
  },
  {
   "cell_type": "markdown",
   "metadata": {},
   "source": [
    "You can view the <code>HTTP</code> response header using the attribute <code>headers</code>. This returns a python dictionary of <code>HTTP</code> response headers.\n"
   ]
  },
  {
   "cell_type": "code",
   "execution_count": 8,
   "metadata": {},
   "outputs": [
    {
     "name": "stdout",
     "output_type": "stream",
     "text": [
      "{'Server': 'Apache', 'Last-Modified': 'Wed, 02 Nov 2022 17:00:14 GMT', 'ETag': '\"14820-5ec7fc6372eff-gzip\"', 'Accept-Ranges': 'bytes', 'Content-Encoding': 'gzip', 'Content-Type': 'text/html', 'Cache-Control': 'max-age=3600', 'Expires': 'Sat, 05 Nov 2022 17:00:21 GMT', 'X-Akamai-Transformed': '9 17210 0 pmb=mTOE,2', 'Date': 'Sat, 05 Nov 2022 16:00:21 GMT', 'Content-Length': '17385', 'Connection': 'keep-alive', 'Vary': 'Accept-Encoding', 'x-content-type-options': 'nosniff', 'X-XSS-Protection': '1; mode=block', 'Content-Security-Policy': 'upgrade-insecure-requests', 'Strict-Transport-Security': 'max-age=31536000'}\n"
     ]
    }
   ],
   "source": [
    "header=r.headers\n",
    "print(r.headers)"
   ]
  },
  {
   "cell_type": "markdown",
   "metadata": {},
   "source": [
    "We can obtain the date the request was sent using the key <code>Date</code>\n"
   ]
  },
  {
   "cell_type": "code",
   "execution_count": 9,
   "metadata": {},
   "outputs": [
    {
     "data": {
      "text/plain": [
       "'Sat, 05 Nov 2022 16:00:21 GMT'"
      ]
     },
     "execution_count": 9,
     "metadata": {},
     "output_type": "execute_result"
    }
   ],
   "source": [
    "header['date']"
   ]
  },
  {
   "cell_type": "markdown",
   "metadata": {},
   "source": [
    "<code>Content-Type</code> indicates the type of data:\n"
   ]
  },
  {
   "cell_type": "code",
   "execution_count": 10,
   "metadata": {},
   "outputs": [
    {
     "data": {
      "text/plain": [
       "'text/html'"
      ]
     },
     "execution_count": 10,
     "metadata": {},
     "output_type": "execute_result"
    }
   ],
   "source": [
    "header['Content-Type']"
   ]
  },
  {
   "cell_type": "markdown",
   "metadata": {},
   "source": [
    "You can also check the <code>encoding</code>:\n"
   ]
  },
  {
   "cell_type": "code",
   "execution_count": 11,
   "metadata": {},
   "outputs": [
    {
     "data": {
      "text/plain": [
       "'ISO-8859-1'"
      ]
     },
     "execution_count": 11,
     "metadata": {},
     "output_type": "execute_result"
    }
   ],
   "source": [
    " r.encoding"
   ]
  },
  {
   "cell_type": "markdown",
   "metadata": {},
   "source": [
    "As the <code>Content-Type</code> is <code>text/html</code> we can use the attribute <code>text</code> to display the <code>HTML</code> in the body. We can review the first 100 characters:\n"
   ]
  },
  {
   "cell_type": "code",
   "execution_count": 12,
   "metadata": {},
   "outputs": [
    {
     "data": {
      "text/plain": [
       "'<!DOCTYPE html><html lang=\"en-US\"><head><meta name=\"viewport\" content=\"width=device-width\"/><meta ch'"
      ]
     },
     "execution_count": 12,
     "metadata": {},
     "output_type": "execute_result"
    }
   ],
   "source": [
    "r.text[0:100]"
   ]
  },
  {
   "cell_type": "markdown",
   "metadata": {},
   "source": [
    "You can load other types of data for non-text requests, like images. Consider the URL of the following image:\n"
   ]
  },
  {
   "cell_type": "code",
   "execution_count": 13,
   "metadata": {},
   "outputs": [],
   "source": [
    "# Use single quotation marks for defining string\n",
    "url='https://cf-courses-data.s3.us.cloud-object-storage.appdomain.cloud/IBMDeveloperSkillsNetwork-PY0101EN-SkillsNetwork/IDSNlogo.png'"
   ]
  },
  {
   "cell_type": "markdown",
   "metadata": {},
   "source": [
    "We can make a get request:\n"
   ]
  },
  {
   "cell_type": "code",
   "execution_count": 14,
   "metadata": {},
   "outputs": [],
   "source": [
    "r=requests.get(url)"
   ]
  },
  {
   "cell_type": "markdown",
   "metadata": {},
   "source": [
    "We can look at the response header:\n"
   ]
  },
  {
   "cell_type": "code",
   "execution_count": 15,
   "metadata": {},
   "outputs": [
    {
     "name": "stdout",
     "output_type": "stream",
     "text": [
      "{'Date': 'Sat, 05 Nov 2022 16:01:03 GMT', 'X-Clv-Request-Id': '34ec351c-21f3-4cf3-a639-97ab99af8d16', 'Server': 'Cleversafe', 'X-Clv-S3-Version': '2.5', 'Accept-Ranges': 'bytes', 'x-amz-request-id': '34ec351c-21f3-4cf3-a639-97ab99af8d16', 'Cache-Control': 'max-age=0,public', 'ETag': '\"a831e767d02efd21b904ec485ac0c769\"', 'Content-Type': 'image/png', 'Last-Modified': 'Wed, 12 Oct 2022 22:35:36 GMT', 'x-amz-storage-class': 'standard', 'Content-Length': '21590'}\n"
     ]
    }
   ],
   "source": [
    "print(r.headers)"
   ]
  },
  {
   "cell_type": "markdown",
   "metadata": {},
   "source": [
    "We can see the <code>'Content-Type'</code>\n"
   ]
  },
  {
   "cell_type": "code",
   "execution_count": 16,
   "metadata": {},
   "outputs": [
    {
     "data": {
      "text/plain": [
       "'image/png'"
      ]
     },
     "execution_count": 16,
     "metadata": {},
     "output_type": "execute_result"
    }
   ],
   "source": [
    "r.headers['Content-Type']"
   ]
  },
  {
   "cell_type": "markdown",
   "metadata": {},
   "source": [
    "An image is a response object that contains the image as a <a href=\"https://docs.python.org/3/glossary.html?utm_medium=Exinfluencer&utm_source=Exinfluencer&utm_content=000026UJ&utm_term=10006555&utm_id=NA-SkillsNetwork-Channel-SkillsNetworkCoursesIBMDeveloperSkillsNetworkPY0101ENSkillsNetwork19487395-2022-01-01#term-bytes-like-object\">bytes-like object</a>. As a result, we must save it using a file object. First, we specify the file path and\n",
    "name\n"
   ]
  },
  {
   "cell_type": "code",
   "execution_count": 17,
   "metadata": {},
   "outputs": [
    {
     "data": {
      "text/plain": [
       "'/resources/labs/image.png'"
      ]
     },
     "execution_count": 17,
     "metadata": {},
     "output_type": "execute_result"
    }
   ],
   "source": [
    "path=os.path.join(os.getcwd(),'image.png')\n",
    "path"
   ]
  },
  {
   "cell_type": "markdown",
   "metadata": {},
   "source": [
    "We save the file, in order to access the body of the response we use the attribute <code>content</code> then save it using the <code>open</code> function and write <code>method</code>:\n"
   ]
  },
  {
   "cell_type": "code",
   "execution_count": 19,
   "metadata": {},
   "outputs": [],
   "source": [
    "with open(path,'wb') as f:\n",
    "    f.write(r.content)"
   ]
  },
  {
   "cell_type": "markdown",
   "metadata": {},
   "source": [
    "We can view the image:\n"
   ]
  },
  {
   "cell_type": "code",
   "execution_count": 20,
   "metadata": {},
   "outputs": [
    {
     "data": {
      "image/png": "[encoded data removed]",
      "text/plain": [
       "<PIL.PngImagePlugin.PngImageFile image mode=P size=800x800 at 0x7F68E86AEF50>"
      ]
     },
     "execution_count": 20,
     "metadata": {},
     "output_type": "execute_result"
    }
   ],
   "source": [
    "Image.open(path)  "
   ]
  },
  {
   "cell_type": "markdown",
   "metadata": {},
   "source": [
    "<h3>Question 1: write <a href=\"https://www.gnu.org/software/wget/?utm_medium=Exinfluencer&utm_source=Exinfluencer&utm_content=000026UJ&utm_term=10006555&utm_id=NA-SkillsNetwork-Channel-SkillsNetworkCoursesIBMDeveloperSkillsNetworkPY0101ENSkillsNetwork19487395-2022-01-01\"><code> wget </code></a></h3>\n"
   ]
  },
  {
   "cell_type": "markdown",
   "metadata": {},
   "source": [
    "In the previous section, we used the <code>wget</code> function to retrieve content from the web server as shown below.  Write the python code to perform the same task. The code should be the same as the one used to download the image, but the file name should be <code>'Example1.txt'</code>.\n"
   ]
  },
  {
   "cell_type": "markdown",
   "metadata": {},
   "source": [
    "<code>!wget -O /resources/data/Example1.txt <https://cf-courses-data.s3.us.cloud-object-storage.appdomain.cloud/IBMDeveloperSkillsNetwork-PY0101EN-SkillsNetwork/labs/Module%205/data/Example1.txt></code>\n"
   ]
  },
  {
   "cell_type": "code",
   "execution_count": null,
   "metadata": {},
   "outputs": [],
   "source": []
  },
  {
   "cell_type": "markdown",
   "metadata": {},
   "source": [
    "<details><summary>Click here for the solution</summary>\n",
    "\n",
    "```python\n",
    "url='https://cf-courses-data.s3.us.cloud-object-storage.appdomain.cloud/IBMDeveloperSkillsNetwork-PY0101EN-SkillsNetwork/labs/Module%205/data/Example1.txt'\n",
    "path=os.path.join(os.getcwd(),'example1.txt')\n",
    "r=requests.get(url)\n",
    "with open(path,'wb') as f:\n",
    "    f.write(r.content)\n",
    "\n",
    "```\n",
    "\n",
    "</details>\n"
   ]
  },
  {
   "cell_type": "markdown",
   "metadata": {},
   "source": [
    "<h2 id=\"URL_P\">Get Request with URL Parameters </h2>\n"
   ]
  },
  {
   "cell_type": "markdown",
   "metadata": {},
   "source": [
    "You can use the <b>GET</b> method to modify the results of your query, for example retrieving data from an API. We send a <b>GET</b> request to the  server. Like before we have the <b>Base URL</b>, in the <b>Route</b> we append <code>/get</code>, this indicates we would like to preform a <code>GET</code> request. This is demonstrated in the following table:\n"
   ]
  },
  {
   "cell_type": "markdown",
   "metadata": {},
   "source": [
    "<div class=\"alert alert-block alert-info\" style=\"margin-top: 20px\">\n",
    "         <img src=\"https://cf-courses-data.s3.us.cloud-object-storage.appdomain.cloud/IBMDeveloperSkillsNetwork-PY0101EN-SkillsNetwork/labs/Module%205/images/base_URL_Route.png\" width=\"400\" align=\"center\">\n",
    "</div>\n"
   ]
  },
  {
   "cell_type": "markdown",
   "metadata": {},
   "source": [
    "The Base URL is for <code>[http://httpbin.org/](http://httpbin.org/?utm_medium=Exinfluencer&utm_source=Exinfluencer&utm_content=000026UJ&utm_term=10006555&utm_id=NA-SkillsNetwork-Channel-SkillsNetworkCoursesIBMDeveloperSkillsNetworkPY0101ENSkillsNetwork19487395-2022-01-01)</code> is a simple HTTP Request & Response Service. The <code>URL</code> in Python is given by:\n"
   ]
  },
  {
   "cell_type": "code",
   "execution_count": 23,
   "metadata": {},
   "outputs": [],
   "source": [
    "url_get='http://httpbin.org/get'"
   ]
  },
  {
   "cell_type": "markdown",
   "metadata": {},
   "source": [
    "A <a href=\"https://en.wikipedia.org/wiki/Query_string?utm_medium=Exinfluencer&utm_source=Exinfluencer&utm_content=000026UJ&utm_term=10006555&utm_id=NA-SkillsNetwork-Channel-SkillsNetworkCoursesIBMDeveloperSkillsNetworkPY0101ENSkillsNetwork19487395-2022-01-01\">query string</a> is a part of a uniform resource locator (URL), this sends other information to the web server. The start of the query is a <code>?</code>, followed by a series of parameter and value pairs, as shown in the table below. The first parameter name is <code>name</code> and the value is <code>Joseph</code>. The second parameter name is <code>ID</code> and the Value is <code>123</code>. Each pair, parameter, and value is separated by an equals sign, <code>=</code>.\n",
    "The series of pairs is separated by the ampersand <code>&</code>.\n"
   ]
  },
  {
   "cell_type": "markdown",
   "metadata": {},
   "source": [
    "<div class=\"alert alert-block alert-info\" style=\"margin-top: 20px\">\n",
    "         <img src=\"https://cf-courses-data.s3.us.cloud-object-storage.appdomain.cloud/IBMDeveloperSkillsNetwork-PY0101EN-SkillsNetwork/labs/Module%205/images/query_string.png\" width=\"500\" align=\"center\">\n",
    "</div>\n"
   ]
  },
  {
   "cell_type": "markdown",
   "metadata": {},
   "source": [
    "To create a Query string, add a dictionary. The keys are the parameter names and the values are the value of the Query string.\n"
   ]
  },
  {
   "cell_type": "code",
   "execution_count": 21,
   "metadata": {},
   "outputs": [],
   "source": [
    "payload={\"name\":\"Joseph\",\"ID\":\"123\"}"
   ]
  },
  {
   "cell_type": "markdown",
   "metadata": {},
   "source": [
    "Then passing the dictionary <code>payload</code> to the <code>params</code> parameter of the <code> get()</code> function:\n"
   ]
  },
  {
   "cell_type": "code",
   "execution_count": 22,
   "metadata": {},
   "outputs": [
    {
     "ename": "NameError",
     "evalue": "name 'url_get' is not defined",
     "output_type": "error",
     "traceback": [
      "\u001b[0;31m---------------------------------------------------------------------------\u001b[0m",
      "\u001b[0;31mNameError\u001b[0m                                 Traceback (most recent call last)",
      "\u001b[0;32m/tmp/ipykernel_342/1115845411.py\u001b[0m in \u001b[0;36m<module>\u001b[0;34m\u001b[0m\n\u001b[0;32m----> 1\u001b[0;31m \u001b[0mr\u001b[0m\u001b[0;34m=\u001b[0m\u001b[0mrequests\u001b[0m\u001b[0;34m.\u001b[0m\u001b[0mget\u001b[0m\u001b[0;34m(\u001b[0m\u001b[0murl_get\u001b[0m\u001b[0;34m,\u001b[0m\u001b[0mparams\u001b[0m\u001b[0;34m=\u001b[0m\u001b[0mpayload\u001b[0m\u001b[0;34m)\u001b[0m\u001b[0;34m\u001b[0m\u001b[0;34m\u001b[0m\u001b[0m\n\u001b[0m",
      "\u001b[0;31mNameError\u001b[0m: name 'url_get' is not defined"
     ]
    }
   ],
   "source": [
    "r=requests.get(url_get,params=payload)"
   ]
  },
  {
   "cell_type": "markdown",
   "metadata": {},
   "source": [
    "We can print out the <code>URL</code> and see the name and values\n"
   ]
  },
  {
   "cell_type": "code",
   "execution_count": 24,
   "metadata": {},
   "outputs": [
    {
     "data": {
      "text/plain": [
       "'https://cf-courses-data.s3.us.cloud-object-storage.appdomain.cloud/IBMDeveloperSkillsNetwork-PY0101EN-SkillsNetwork/IDSNlogo.png'"
      ]
     },
     "execution_count": 24,
     "metadata": {},
     "output_type": "execute_result"
    }
   ],
   "source": [
    "r.url"
   ]
  },
  {
   "cell_type": "markdown",
   "metadata": {},
   "source": [
    "There is no request body\n"
   ]
  },
  {
   "cell_type": "code",
   "execution_count": 25,
   "metadata": {},
   "outputs": [
    {
     "name": "stdout",
     "output_type": "stream",
     "text": [
      "request body: None\n"
     ]
    }
   ],
   "source": [
    "print(\"request body:\", r.request.body)"
   ]
  },
  {
   "cell_type": "markdown",
   "metadata": {},
   "source": [
    "We can print out the status code\n"
   ]
  },
  {
   "cell_type": "code",
   "execution_count": 26,
   "metadata": {},
   "outputs": [
    {
     "name": "stdout",
     "output_type": "stream",
     "text": [
      "200\n"
     ]
    }
   ],
   "source": [
    "print(r.status_code)"
   ]
  },
  {
   "cell_type": "markdown",
   "metadata": {},
   "source": [
    "We can view the response as text:\n"
   ]
  },
  {
   "cell_type": "code",
   "execution_count": 27,
   "metadata": {},
   "outputs": [
    {
     "name": "stdout",
     "output_type": "stream",
     "text": [
      "�PNG\n",
      "\u001a\n",
      "IHDR\u0000\u0000\u0003 \u0000\u0000\u0003\u0003\u0000\u0000\u0000��Z\u0000\u0000\u0000\u0004gAMA\u0000\u0000��\u000b",
      "�a\u0005\u0000\u0000\u0000\u0001sRGB\u0000��\u001c",
      "�\u0000\u0000\u0000�PLTE\u0000\u0000\u0000\u0017Dh!bx\u0012Ei\t8f\u0018`�\u00035f$Ig2fv\u00057g\u0010Bi\u0019S|\u0013Ei��9\u0016j�\u0016j�\u0016m�\u0016j�\u001d",
      "Gg\u0016j��A Hh�bFo�N\u0017j���8\u0016j�\u0016l��7LT�^�4NQ�G˺:�d6η<��7��.�U4K�N�?C�I�\u0015l�e6��8�Z4$��'��b���\u0015l�0O�>b���\u001e",
      "JX�G�>$��c��]��X�G�74 ��c���oF'����D\u0016Ij\u0016j�\u00003f��9Y�G�f6D�G'���74�\u0015lݧC�\u001c",
      "Ed�� ��d����p�\u0000\u0000\u0000AtRNS\u0000l\u0012�@\"���2��d�Q�Z�\u0012M!)�選8R\\zG�h���������xb쮖����Џ����������+c��\u0000\u0000 \u0000IDATx��\tc�6���M�D=/��ز��\u0013%M��NR�I�4��w:����\u0001$%q\u0001@\u0010\\DJ��i�E\u000b",
      "��\u0007���Ӂ���������������������������������������������������������������������\u000eF\u0004�\u0000��\u001a��Ә�\u0017pU ��cIu\u001d",
      "\u0015�7���P��v�)���u\\��('S\\$�p�X^߿~���¯<}���z\n",
      "\u0013�\u000eT>\u001e",
      "KE\u0011Y\"\u001a�\u000eR��,<\u0002D��\u0010�0��[EO�!�!�\u001f��O�V$\u0004�:tx�����߯��\\��Ͱ^����SD!��\u0019�2\u0007 ��B\u0007&2�~��t�Acw\u001c",
      "jS\u00155��g\\�]�,��Ʃ�|�X�2=���{��OK\u001b��\\���\u0006 ������Q�q�??���ǈ|T\u0016��\u0001�\u001b�@;w�)��\u0002�%��b^|���V�7��\u0003\u0010h�|,T�X3�\u0018��\n",
      "\u0000B/�Ʉ\u0012�<wؓ󳳳\u000b",
      "��g��G\u0014\u0013���7��S\u0013��L/q�h�\f",
      "o��\u000e8�KL�q�\u001c",
      " ��������)�����E�ɑ�'\u0015_��\u0013]@���Ĕ�\u0011��o%��'w?�899:::?g���N�\u0011\u0005��\u0017��)�N�/�\u0018&N��6 ��\u0010\u00054B,s\u0002�3l��xP6��..�OG�O��(\u0018�\t��\u0000\u0011�N*�Ӑ��XMWFC\u0013\u0010�Hn\u000b",
      "ǒO�\u0011�\u000b",
      "6GH~Σ�s\u0017\u0000dN���|D@9����( 4а]��0_���O�CN�f#ğ<�J>��#XH�����Y:=�ȋ���׀蠡\u0001����ۇ�I����F�\t\u00062\"��ٺ��C\n",
      "��G �)�Iv�K�#�Zos\u0001�\u0016�\u0000���Ov\u0005���y�1r`#VN@�\u0000\u0004�����X��\u0010\u0002e\u0017��U\u0012�wy\u0001!\u0000\u0004�ģ��;+��I\u0019?$�������\u0002 \u0007\u000fH�و�9�،l�N\u0001��EL׵�\t�m���I{\u0000���^l()�\u0017�qz���{\u0000)��3�c���\f",
      "@�*��m\u0016 �*�շL%�ѝ�vZ��įs�����\u0001H\u0006 �j�\u001c",
      "��F\u0001�g!@�;c���\u0010w�:kp�׽P�\\�@I�TPt�3@�3��y�G�I��/a���\u001boE�8\u000b",
      "���\f",
      "N\u0001HI�T�\u0014�;@�\u000e@x*�hB�%~�����#�������\u0004 \u0000��s/�'\u0014��\u0016�v�E�KC\u0018\u001e",
      "wwo߾�/G�˔���܋K�#\u0000R���\u0001q�\u000b",
      "�\u000e�\u0011ٞ���C�-+b#���㭀#�1\u0000i& �C\u0005��ڗ�O�>%ρ�}O���z��\n",
      "ĵ�(hؕ6\u0001�9 �'Y\u0005\u0017\tնzP>~����$M�\u001e",
      "\u0000b�=k8�\u001ab�n\u0013-�8^_\u0005\u0010:I�4\u001a\u0010����\u001a��.�8\u001c",
      "��0J<�OT\u000e��1 \u001d",
      "=\u000b",
      "�9a*1uRZ�/��}���\u0019�\u0000!�� �r�v�]+\u0014k����s��\u001a|\u0019|�h\u0010��bu��dz�\u0001ѳ��B\u0006\"-��#vR�˨޽L�M5�\u001d",
      "��\u0015k{;�hhyMm]A&���H�N,\u0006IF�]\u0003��VX�\u0010K9}KL��ŏ?�����n�Ƿ1���w�^�OQ�\u000b",
      "@��\\�`��gtpF��5�C����L>����h@:�[�E�B\u0006�V�K\u001c",
      "�\u0016�|6���1B!�FB�\u0011\u0010�\u0018\u0011�\u0010܋�^3\n",
      "�F\u0003\u0001�)\u0003\"{�;\u0005�4�K\u0012d��y:��n���x����E�JEXDk�\u0015L��B���]\u0002��\u001c",
      "~0l& _T5l& �`�uLG3k�T�e����?~~\u0019}���\u001b�$�\u0018�s�/�^\u0013\u0001Q~�_\u0006�&\u0002B�\u0002_�>y�Q�$�;\u001f�<�]xz�4�R���|���o�qH�\u001d",
      "�! �\u0006\u0001B'X�\u0003lhy\n",
      "?l1Q*¢3,m@�}\u0019�H�\u0006$�\u001d",
      "x�D@�m\u0007D7��-O�����\u0019���t�\u0018�ߓ.\u0003dp0�|�6\u0010\u0010AB+ekk��R\u0011�v�\u001e",
      "_\u000b",
      "\t\u001aɽm|W\u0013\t y��]\u0000R6 vOC���(\u0015a���3�u\u001e",
      "�\\�Y�\u0005�ۻq�\u0000��n@�/m\u0006�Տ$�ы���EX�9�\u0000\u0010ǌ4!͵�~�h- _Z\u000eH�b\u0010�Wl7������w�m�\u0010 ���c=����%�\u0002$G\f",
      "��\u0002 �\u0002���\u000f��މ�o��\u0005����\u001fϢ�yI�<Vy� \u0000�퀘�V���^�\u0013)�5�R\u00001��o�MJ��\u000b",
      "@Z)�G\u0018Q�Hey��\u0019�wE\u0001�n�T��-s�\u0005@�\u00022l\u0014 Z\u000b",
      "�)S\"� \\�G��\u0001�9^�\u001b�ᙍG�g\u0014\u0002�\u0016\u0003R�\"7�8\u0011Έi�\u0002]�6b�H�\u001b��\u0005\u0001IBH���,<\u0016�\u001e",
      "�^�Jz�\u0001iR-��\u0002!������\u0015G���Gg*�Ί\u0001�G\n",
      "�\u000e\u0019��9��Y�QP���m�f��~@�\f",
      "�\u0004H�G)�\u0015��������>�?�\"_��ي�2#�\u0003�32�\u0019�{��\u001d",
      "��d\u0015Hw\u0003��\u0003��\u0002z�\u0012��b��\u0019��ï\n",
      "�A��ǫ�޼Z�J�C����|�x9��g�z\u0017�\u0000��I\u0016\u0000i����7����맭���r˺���3�\u0004 ę\u0018��u\u0000b��P=\u0000�׀P�x����������?~z�沬\u001b��8 �<\u0016q'�H��b�A�e\u0002b�ݥN�\u0000H#\u0001�|��`c+JȬ��X<��\u0014\u0000\u0012m�Co�.!\u0005\u001a+��> �N�\u0000H\u0013c\u0010:��+e\u0001=�ϯ>\u0014���\u000f�KsWS,7\u0005H��,\u0000��\u0018�+1�I��_-F�l��L8�=\u0017�\u001c",
      "��LʼM\u0016�`\u0005��\u0006\u0001R�$\u000b",
      "�4\u001a\u0010^�`�\u000b",
      "�\u0014��|�*�d��.\u0000){�\u0005@\u001a\u000b",
      "�9��|C�j#����R�0�E �\u001c",
      "��^h��V�c�ŊJ��=�\u0002 \n",
      "���\u001f^]��\u0002�C\t�|?K��)�\u0017K\u001f\u0010b(�\u0007 -u\u0010j ?�󯈏˳���K\u0001�ʈ��Z\u000f��t\u0001\t&Y6\u0000�_@޼�G�\u001f�\\�\u0005H\t|� $M�\u000fH)�y�+��x-�\u0004 �\n",
      "�e]�\\}(\u0011\u0010#q�#)�ݽ\u0010 ���!\u0000��1��\u001f䀼zc6\f",
      "\u0010��z6�:� 7 �~2\u001b�쫃��\u0003�S�\u0000\u0011\u0018Zy\u0007��\u0005$�d9\u0000d?\u0001y#\u0007�߲\u0000!�\u0000\"�W�_����'�B��5�\u0002 \u0000�:@��X\n",
      "I�`�C� X�$\u000b",
      "�41\u0006�\u0004��+�u\u001d",
      "�1M�백�h\u001f¦\u0012�\u0007�8R)>�\u0002 �t���{I\u0019T\u001e",
      "�d2�m��\n",
      "@fՀ�\u001e",
      "���\n",
      ":mb�':��S)\u0015��w��4�o��V���۟>;W��\u001bY�$%L�\u0000H\u000b",
      "\u0017����o<!%\u0000R�$\u000b",
      "��4\u0006�&�\u0010�1�\u001e",
      "�\u000f�\u0016���w�\u0010��ǋ�^\u0019\u000eR�$\u000b",
      "��E\u0016�\u0010��\n",
      "s�y���� ~�\tu��3\u0019ap�{���jW�L@���\u000e\u0000�;@�Գ�^}�\u001e",
      "^a�N�|F����?�������C�r_�l@���\u0005 ͬ�z_K-VI�|�ʬ�$Խ^2����\u001f�q�w�[/O\u001c",
      "�����\tQ\u0000�,:�\u0002 �\\�[����$\u0016*�Iyytvvv����)\u0017�\u0003\u0010�S�LB\u0014\u0000)ܮ\u0017�\u001c",
      "�~\u0010�N@��\u0010�\u001f6�:2M�`#\u0007!\f",
      "\u0010�b3\u0005&Y\u0000��;\n",
      "\u0010�(d��Z\u000b",
      "�F����D���\n",
      "F�'Y\u0000��g\u0014J\u001a\u0013�0�*�7�z~�z*������V\u001a��I\u0016\u0000i����|ŧY�tw�~۸��a#�\u0012�bB�\u0000\u0012�M&��|:�hJ5\u001e",
      "\u0013\u0000�b@\u001c",
      "� (:�*�|�_W3\u0012i�l#\u00135�\u0013\u0012�\u000b",
      "��wG�]B��b>%\u0000����\u0019��N0(u�?�q�\u0014���j\u001b9m�V|�\u0001!�*�\u0005��f�)̨G\"��B�����۷߄���?_\f",
      "\u0012\u0019#\u0000��1H�4�\f",
      "nݞ^�߼*��p{\u0004[N\u001bQ\u0005$�JN�cM���Vk=�\n",
      "�J�|uy9\u0013<�t�\u001d",
      "E�'�U\n",
      "�b\n",
      "@Z� \n",
      "\u0016\u000b",
      "��'��f���:*��Y,a\u0013����\u0015%���f�\f",
      "\u001ba{��L�\u0010\u0002@��4�\t\u0006e|&FxG�s~�x\u001a+���h#���\u001bB\u001c",
      "�&��\u000b",
      "\u0011\u001d",
      "1F8|��!��\u0000�F\u0003�*m\u0018\n",
      "!G�����o���(\u001d",
      "��\u000e�\u001c",
      "!H8߾�E\u0001��)[�]^}��E>|��Ju'��Fβ\f",
      "�\u0012�\u001e",
      "f������\u0001�ws\u0000�6@ܼ%�3\u0015@~�|E�yT�ȇ\u000f��X�\u0005�ط\u0011\u0015@^�\u0001�����wH\u0000��� ��e�d�B\u0005�\u0017K^ <c�\u001c",
      "�S#�r�z����2�Ftj#VW�\u0017\u0018��H�\u0016q^R:��\u0013E��)H�)��\u0010�[����\u0014��\u0018��\u000f\u0010S��h=�ZR<~\u0011�\u00122��i�~`O���H*y���x�z��\u0011�\u000e2��������\\\n",
      "@L\u0000����\u000eA\u0014\u0001yt#\u0004dS�hn4\u000b",
      "v\\����A��^\u000b",
      "\u001d",
      "r�N\u0005\u0010�\f",
      "@.�+$��N��\u0002�=�A� 4F���oR\u001d",
      " ��BS\u0007�+o\u0012\u001e",
      ">\u0007@��A� 5\u0001�m!j�\\�{\u0013vP5;��\u0002�l�Yz\u0001 �\n",
      "��؛�n@|p��\u00009K\u001e",
      "�\u0002 \u0000��\u0010D\u0015�_\n",
      "�;D\u0016k�\u001c",
      "d�����\u001d",
      "�)\u0015�\u000f���r�(@\u001c",
      "�Õ\u0015��\u0013vR5;�z}Ļ\u000e �MS���\u0017@���{J��%E)�_NI�\u0000񫌽�\u0000y\u0019�:,�|���bm\u0000A5�\u0000B�Hña�~������Ͽ�\u0011��Z�^���V�\u001c",
      "Du\u0000iv\f",
      "B���O���S\t\u001b���ӑϏ�\u0001$m!�_e�ț\u0014�:+�Z�D\u001c",
      "\u0004;\n",
      ">�,k�锸/�z�BM\u001b6���@��\u001d",
      "KN��\u001f�C �|\u0010\u0001\"��\u0003�\u000f��\u0018�\\��* �g\u000b",
      "k���X/�׿�d�d�G^<�������<ӑ�\u0015r;+\u0016�r��,,���\u0015\u001c",
      "25��o\u0000�\u0010\u0007Q\u0001D��z��(�*�i{�\u0001\t�\u000fo^(\u0002�o\u0012�ly=�S,�|z,�\u0013����41�Nt��h��Gv�\u0013���o�C۟f� �\f",
      "\u0003��\u00045�\\6���\u001c",
      "A����f�9��7,�6�}���o�z����<6�R)wO�(ԪŊ�m�g[�7��l\u0007\u0019g\u0003��~l�\u0013�Æ�\n",
      "HbA����jM�|@�\"g�\u0011v<�˗/߅��z�q\u001d",
      "�=�o\u001c",
      "���@n�S?\u0001H�b��\u0000�\u0013�ϟ\u001f=\u0012%x��\u001f�G2����& �=��l���)�StN^��Q���\u0005]�֣�\n",
      "����\f",
      "*���]*\\]r\u0001�uv�\u0000��\u0004�J�L6��x\u0016��b����+܉;�\"���\u001c",
      "k!~:�c\u0018I�0]�S��u�\u0004\u0000i�:���Lus��`�Ͳ\u001fA\u001c",
      "�̵\n",
      " ~\u0019z�.�7�H\u0007$����<_�_rV��ե��\u0010\u0000��+�\n",
      "�����+4���'\u0003��{[\u0004�[�k'\n",
      "G� eB��\u0004g^\u0011�N\u0013\u0000�=ռJ\u0001��\tMm�k�f�  ciZ!s��Y�ٳLF�=[]]���\u0016A\u0000HSb����S�� \u001d",
      "y���D���t�\u0001IA@�c)��\u0004S�W��\u0005\u0001$�~g�\u0013\u0002@\u001a3���Q��>�9��\t@�/{E/�3)\u0006�\u0013\t J\u0004�o��\u001fͰ\n",
      "ի��߿z\u0013�~ifj|\u0004U\u0006�9R&�JA�W M\u0001@�\u0001�p\u0016\t|<|:^1>(!�\u0002Fr\"�\u000e�)X�+\u0007D\u0018%�=��SF\u0012��:@��\u0002&J�\u0007;;Kl\u0002��\u0001Dm�#�H�u��= R\u000b",
      "�ï\u0018���\u0000�\u0002@d�S�BH��H\u0019�+8P�E\u0010\u0000Ұ\u0018Dk\u0012�5\u0001+e!�R@la��\u0005�Z\u0010�\u0002@Z� ��\u0000W�(��?\u0000�1�y��޼O�>���n*7\u0010���0��߮\u0001�JD\u000b",
      "�\u000f� ?+��\\\u0004\u0001 M\u0002$h_}\u001f�u_�uw��SdϰE\u0003��BH\n",
      "X(\u0000i\t ���\u0014�A��\u0019�\u000f�~��\u001f6bnr9S}\u0005����*\u0001�@NO-�B�\"Y\n",
      "\u0000Ҋ\u0018d\u0013��<cqx|���x���\u001fa'Xm7\u0014V\n",
      "B8�I{\u0013��9�z�>��\u001f�Iӱ\\^���Zѳ.�7�W�\\��� �.X�\t@Z\u0014�p��v\u0000�\u0007�p\u0002u�\u001c",
      "Ĥ�!���O�-�sJ\u000f;la^�~\u0010�\u0000������-%�B\u000b",
      "�\u0000�=��\u0002u�\"\u0001����?2�Y\u0016ooj|R\u0015;lA��\u0003�-�\u001d",
      "�b��S�=I��^�jf\u0000Җ\u0018d;�\u0018�%��P\u0003�������*v�\u0015�\u0016\u0003dJ2�+��\\��F��:)\u0000i��Ёt��ӧ'O��d\u001f�tw�I��'9\u001f���Ûmw\u001c",
      "�g\u001c",
      "n\u0002�q!@>M�v�\u0001L#WnV\u0012�x�j5\u0001H�\u0000!�ŧ��˔\u0010��e�&\u000b",
      "�\u0018 f�đ4\u000e�)=�:+~���?�ǳ�r�d�\u0018��\u0015̳��ob$\u000eB�^�:\u0002\u0000�\"@�34���<\u0014�˓Ŝ\u0017�d\u0001�/\n",
      "�\u0011�r���\u0012\u0005!����\u0000H�\u0000y�\u0006��\u0013�ɦ�L&\u001e",
      "��z��?\u0019���\u0000�<37\u0019\u0000=/��nn�\u001d",
      "��\u0007�v������\u0003@\u000e$\u0006�\u0002򸗔\u001a o�믫|\u0000\u0000 \u0000IDATv�\u0013����[Dh0�t������\u0010��nJ\u0000�\u001e",
      "\u0007!����\u0000�*7 ���=��/E�M�,�@��(G!�=%^�.\u0000��S,M\u0007y�f��駋'�\u0011Ht$\u0007��>��\u0002��4y\u000b",
      "�E\u0017A\u0000�>8������ ~0�8�B���di�z\u001f��\u0006q�}}�B\u0005�\u001c",
      "s,\u001e",
      "\u000b",
      "v�.\u0000��1�V\u0016Kk���3�1�N�\u0006#�\u0015fX�V�c�\u0010�xSI\u0000��,V���Y\u0016[�W^\u0000y�XP�;�)\u001b\u0010N\u0010Rx\u0011\u0004��\u001d",
      "�\u0007��B�\u001e",
      " ,��Iu�E_��\\P�;V\u0003$G��\tB&%��\u0004 m_(��\u0015\u0010:�����u9X��l\n",
      "�X��x���t@��v�/�\u0000�v� �Z�4 �*\u0001aӖ����mPt�<����ɓ'����t:&5\u0002�j���R\u0012���A���x\u0004���SoG��W\u000b",
      "\u0010\u0012��0��\u0017\u0014�[�I��l��m��|�q^C\u0005���\u0010����\u0000�]�An�������N�9\u000e��\u001f$�6]T؎�iT�\u001b���ݎ\u0019��/\n",
      "�\u0010�������3�MD�������\u0018�\u001c",
      "\u0004 [B�S\u0019\u001e",
      "\u001f\n",
      ";\n",
      "���(�!I'�|\u0019���/e\u0000B�l���MbOI|s���r6\u001b����� l@�[��Wp���s.���S�=��\u0001�h���\u0005 �e��/���?��%/|J��c\u0000��\u000e��~2�����{�\u0018]�j=_��R\u0000\u0019�\u001d",
      "Wj�����r�C<\u0001Hh!��g�\u0006�ry'���\u0014\u000f�\u0019\u001e",
      "j���&�6`\u0001�}\u0006�Z�+�$맟~`�\t��\u001e",
      "\"��V; ��2\u001e",
      "�\u0016�\u0019\u0000��\u0018D�B(!�T�\u000f�_\u0005�m�-�e����iU@>\u000b",
      "7\u0003��||���,\u0000��\u000e���\u001e",
      "4v��o��zW\u0007\u001b`�\u0012d���\u0013�ϊ�P&�����&/\u001fl\u000f�\u0018�\u0000���K�p��t��\u0011!�� �澉�+�<�)\u0007 l۔: ~�\u00073\u001d",
      "�������\u0000YO�ֈD\u0014��C63&�P=����ZZn��)�\u0000�K��[�7\u0010\u000f/\u0000A\f",
      "\u0012sQ�\u00175TC��V�\u00135@����↩�ho;ύ�\f",
      "�0\u0010���c\u0000\u0002\u0007Q�\u0018C9TW8lV\t����\u001b���c�^�/j\u0000����\u001e",
      " K\u0000\u0002@�߸j��r�l6 ��*�)�9�6�\u0018#l�E�fX�\u0001�\u0000Q��\u0016��\u001c",
      "6kg�\u0016���,@���5ٌ�h#aû�\u0005�\u0006� \u0006ɻ��\u0015��*g��\u0001�z���u��q��e��g=@^\u0000��9�i\u000b",
      "\u0001�8F�\u0010\u0012����rȰ\"�U:l�\u0015\u0003B�#{�B��tO�M@�Y+Fg��\u0004���V\u0002�\u000e��\u0004��mP��\u0012Z�ݩT��\"�I̭6�*\u0015����2�\u0007�ы\u0017\u0000\u0004�h��\u0013J\u0007�ᛴ޾�[L�z���VQB^<z�S[�L^<�t\u0010\u0000��\u0018����1��\u001d",
      "E�/�����8? ܹU��\u0001\"�}N7����\u000b",
      "�)�#\u0000\u0002\u0007�\n",
      "���\n",
      "\u0010\u0011\u0013B�ݷ���`\u0013\u0017�ϭ��:�\\�6\u001be�=��.YyY�L\u0013\u0010\n",
      "{�\u0005ͱ����'�I\f",
      "d��Rnd\u0005@� �^��do6�-�\u001fvR���ؙ�\u0014\u000b",
      "�\u0000\u0010\u001d",
      "M���\u0012��\u00022Nv�`��Ʈtn\u0015!3�\u0002�*�ҝ=\u0002 �Aj�<�������\u0006n�w#\n",
      "��w�\u0001\u0012�c\u0011�t\\�sv�* I\u0003�sZ^�\u001c",
      "�\u0005 \u0000D\u0015���gL<c����� vr\u0017\u0016���\u001d",
      "\u0007�\u0000\u0004�L�\u0000���]/�O�\u000eb�3��#I�xMT��h\u0003�\u000b",
      "\u0000iA\f",
      "�V@���\u0000y�\u0001�V}\u0001�H�{\u0002\u0007��4\n",
      "�U\u000fݬq��=\u0007 �\u001e",
      "��%��\u0001Qu\u00107��Um�2Ӯł��A�\u0002�o\u0012�\u0018�7��� F:$WMc�\u0000�\u0011��\u001d",
      "�g�v]�4I�,�˙O��i,\u0000\u0002@�\u000b",
      "�\u0015�AT\u0000�808��&\u0000\u00041H\u0003\u001d",
      "D\u0015�ǟ�[6:���(��t\u0001��@� �\u0017\u0010A-��(\u0018�ǍK\u0014�X�\u0017u�(\u0004 \u0000�\u0010 S�������?\u0007:�U��\u0012&�g�b\u001ak|�B��\t\u0000\u0001 U��p\u0001\u0019o�M��\u0007�e7\u0013��\u0017�'j=���7u��\u0001 �Ar���~{�x\u0012=Y��(\f",
      "{(r3���\u0011\u0019�j\u001aK��\"\u0000��T�-�\u001e",
      "\t��N���������f�� ]���r�>��z\u0014�\u0000\u0010\n",
      "�~5��\u0006\u001d",
      "\u001b�X��3�˨,*o6۬��Jc����\t%4�\u0006 \u0000Dy?�<�\u000b",
      "w�=�\\^]�V�b���y�Z]]&��d���f)+=@r\u001f1\u0005@\u0010�����YLs=�\u0019�5���@pE\u0019�����d�&$\f",
      "oV�k:@\u0007��A:�\u0002{�e�\u0007�\u0000�5#W33�+�4ֺ[��u\u0004��9�\u0000\u0004�t\n",
      "�Av\u0000��k6�\u0012(�\u0004� �\u0001y\u0016\u0003��Z�l\u001a��[m�r.\u0016>Ҙ`���\u0002�Z��&\u0002�����^��l�\t��Wfv\u001ak\u001d",
      "�GO�b����q=�\u0018{&\u0000�\u0007H�\u0004@N�\u0007��!���z��\u0000�=\u001b���妱6�y�ʅ��zV�����\u0001\u0000\u0002@�\u001e",
      "\"B����B�?�\u0000Y]��4V$6O����Z�l�ѱ��\u0001�\u0004�\u0000�0R�O�I���\u001f25�j^�����X��<E E��E�G��F��ï�`'*h�\u0001@v\u0001�YC\u0001�'\u0014��AlL�S\n",
      "��\t9\u0010B\u0014Ӽ����ȑ\u0006\u0002�\u0002�\u001d",
      "\u0000����wJ��Q#��X{ԙ'ge\u0000�\u0005��\u0000䨡�D\u0006�8,:,(S\t��\u00193\u001a�5��؜�6c�A����l6+�&J\u0001�\u0007@r\u00002�h: �I\t��R����i����K~l�����\u000e�\u0000����r\u0002�|�������y��\u001f]�\u0000H��\u001c",
      "�;\u0007\u0002H'' �\u0018\u001f���kal^��s\u0000\u0002@v� �z�7�]�\\����߫�����\u001f\u0003�z\u0001�::\u0003 \t@�mL��\\�|�8g�\u0000�f@�^`��\u0006��;�\u0007D�\u000f\u0000R\" ��A��\u0003r�\u0015��\n",
      "\u0010�\u0013u�8@��1\u0000�\u001d",
      "�F\u0016�Wsi�\\7\n",
      "\u0001H��4�\u001a��4V�b�\u0014 �];�r�;\u0000)\u0011��������\u000f�\\\u0007y�s@�\u000b",
      "M\u0000H��P\u000b",
      "\u0001 <@�+���\u001d",
      "�|�eB\u0000R& ���Uٓ\u001e",
      "�r\u001b��z�k\u0003ɱ\n",
      "\u0002@J\u0005���$\u0000�Ӵaz}�:(�}}=���WO�\u0002�R\u0001i����,B����t��e�׻�Nǻ�9rX\u0000�T@\u000e'L7/Wy�\u0013���xPa�����\u0014��\u0004�\u0003*X��<��Gj�\u001fi\n",
      " yBt\u0000R. ,\n",
      "9\f",
      "@�)n^���g�3�xR;ɳ$G�\u000e@J\u0006�p\u0016\u000b",
      ";��2u\u0000�*�e�6�7\u0003\u0010b�\u001c",
      "\u0005 �\u0002��\u0015\t �b��V�_./g��\u001c",
      "6Q��&G \u0000�d@�~�8����~�\u001f3��i��0B8�\\\u0015ς�:\u0002��\u0007\u0000)\u001b��I��/�?\u0006{E\u000eK��@.�\u0002�]\u0002r@\u0005'BM�g�*\u001e",
      "�^-\u001fGg�\u0000d��\u001c",
      "о\u0010��0�l\u001e",
      " �=�}�\u0003 e\u0003rP���F��,zL2�)�����\u0000d׀�C³p�\u0001B��\u0018\u0001�\u0006\u0000B=�=l@�0$n���\u0001��\u000f\u0000R\t ����A'כq�m��>\u001d",
      "�\u0000 \u0015\u00012:=;9�@$��eӮ�\u000e�g�:�$\u0000�\u0004\u0010�8��6\u0011;���% ���\u0007\u0000�\n",
      "\u0010\u001a��\u001d",
      "\u001d",
      "��x�\\������\u000f�\u001b\u001d",
      "\u0000\u0010\u001a�P\u0013q\u000ewY=��uv1ݓ�c�\u000f\u0011�T�D.\u000e��$���\u0015 ,�\u0018�\u0000H\u0003\u0001��\u0018�P\u00179�X$���ŖBb:���q�O\u0010�T\n",
      "\b5�c�ȁ�\u001b�s��\u0000�99�8շ\u000f\u0000R9 a�Nm�1\u000f�Hb�ޚ�\u00142�8)�\u001e",
      "\u0000�\u0016@��������a�zk\u0005Ĥ�qv\\�=\u0000�Z�J\u0001\tl�\"B��9�!\u0019I4�[ϖB�\u001c",
      "\u000e�\u000e��E\u0019\u001f\u001d",
      "\u0000�\u0007\u0010j#��Ӏ�CJ�\u0006����ֲc�8'G�������׊\u0001\u0019\u0000\u0010\n",
      "���2Ŝ䠌���N�\u0000�Y���x����\u0001�z\u0001��\u001b��\u00053�� $����x�\u0000����Iu�qL�c4*��:\u0006 L]1 \u0017���+4\u0012��:�\\ooy}}�����z����eZ\u0007�\u000e���q���\u0004���\u0001�2�\u0005��:\"9��S���ӧ�\t�~}�,����QǨ��jt\u0001@���\u00019�Z�N}D�}�������i=}}?-�;\u0002�8;\u001e",
      "U�\tI\u00001�C\u0002�\u0015������.�\u001c",
      "��\u001f�������zZ\u0002!4��q\\�ulnaB@��\u0002�\u0016�P���k�\u001a\u001d",
      "���{�ךr�# �\u0014�\u000e3\f",
      ";��lN�D���{H��'�9�s~�rB¥�=�k-�|P\u000b",
      ")\u0010��.��J���.`�\u0007\u0005��\n",
      "]�l��\u000e�\u0006y�����\u0018�����G��\u0011v�\u0015nzs��\u0001\u00012\u0014�\u0013 �y=�|��Z{\u0016�HfX��z�3+����;�\u0007���A\u0001�m�\u001f<�����\u0014�#{S�+\u0007�z��<�\n",
      "�Q]\u001f��h�K����\u0000\u0019��;\u0015�\u001a��D8�76\"�a\u0005QzN@����\"+�eB�}sb\u001d",
      "\u0012 ��w�=?\u001e",
      "�jt���{�\u000f�<@|�8��<2\u001a\u0000\u0012�?8$@$k���U�\u0007�uol�4@H`\u001e",
      "�ިF\u0017�\u0016��*��\u0002\u0010�p�7߰\n",
      "jV�\u0010�6R\u0010\u0010�<oI{\u0003��M�5�ur\u000e��\u0003\"N�\u001f\u0011��������.������\u000b",
      "��a;{\u0019���U���ნ����[\u0005�\u0007@$y��Ea��������AY\u001bK\u0015k�lU{m��\u0014�-�W��\n",
      "F�\u0000\u0012�J�m�v��U\u001c",
      "�\u0004\u001b<M������Xe�Z.���X��O\u0011��\u000b",
      "�X�QU����x�:a�?S��fܔ���\u0001�/\u0003K��\u0002�\u0018K\u0000I�'eƊ�\n",
      "��pph�|�{����\u0012Z\n",
      "%��'�Ļ^\u0018�\u001c",
      "\u001a A�1*ې\u0019\u0016\u0001\u0015�U8�ɼ$�\u0000&�����\u0000D!\n",
      "EZj\"A�1��\u001d",
      "u���/���j?\u0001�2\u001c",
      "Z��S�xa>r�����]����F�1:�5�zV\u0011��O@�5\u0011��r�,\u001fə�jcs\u0007z;ȷn\u001e",
      "�\u001d",
      "��fe�-�\u001a\u0016\u001c",
      "J�\t�`��[�]��\u000b",
      "|$_^���,�\u0016\u0006O���� �6�{\u0014�cO\u0001\t���g���&�����[ë[wZ�4�\u0011���(X����T�7/�\\`�ܷ��z�(r��c�\u0000�\t!����H�R[��#�!{�퐰�n�uW:jl\u0004n��\u001f�%����Ɔ�ݱt�\u0017��\u0012���q�u�QW�=��j�Ǟ\u0001�\u0018�9�'~jK'�u|v��M��\u0006\u001f�+vG��ڣ�N~w?\u0001�2��\u0012�G3�Z\u0001\t\u001d",
      "&4\u0014i1\u001f~�1ʿ�\u0011&��9\u0010��\u001f\u000e\u0000H�D\f",
      "��|A+���)\n",
      "\u0005d�$~HRJ\f",
      "V9_rNKvo�Ӭ����k�ً\u001e",
      "%�L� �\u001b\u001aG#�@����\u001a\u0003H$*\t��Ҝ��(�8��!\u001d",
      "�R�(�J[��-�\u0010�����D@�_�4\u000e��&�����\u0019���N�Ytz%����[i�\u0004�9�TU�\u0004�\u0018\u000e�4R���g$~[ۑd���Pݤ_Wp�Y�u\u0004���\u000f}�H@�ٕW��G�p���_���6\u0000Hf�>\f",
      "�\\�JJ&į�:�:2�\u0019�:�9�>N/�0\u000f��x#�R�\u0017m�\u0007���K3\u0014ZIp�Qy\u0017*(\u0018�\u000e���\u0006����}\u001f��aR�q�i\u0015�U�,&\u001b�`���U�o\u001c",
      "2 ��\u0004n�\n",
      "!��\n",
      "\"F�8��4K�ԧ�Ѓ8�\u000e��9���6��\\@6٭��߽\f",
      "#�\u0005#���f�'��cTV�\u0011Z��kX̑\u0004��H@�a�\u0001�\u001aI\t\u0007�\u0010Y�\u0016\u000b",
      "Dj��\\ah\u0014�1/!��o�_\u0002l�slo�^\u0003\u0001�{M\u0007d}{a\u0011I\u0019>\u0012��s\u00199��%�#���ݣ8��;�o\u001d",
      "k@�I\u0003��\u001d",
      "�^�;0��*�8!��\u0016\u000b",
      "D�\\\u0011!���� qUB�*�:\u001c",
      "\u000eZ�\t\u000f{v\u0003\u0001!���E\u001aZݠ�#)���θ.R犈h�c4*�׶�\u001d",
      "��\n",
      "[\u0004H\u0010��%�b����EN��\u0003/(.\t\u0012W��wԶϩ�B�f�\u0005�u���3[�]�G���\u0011�H�Znd�9�\u0010��S�;X��A�>�^C;�8-$�o��+�@B�-#iB�Oj�S��\u001aU�{��;�\u001b��=��m\u0006_Z�#~^����\\��Uu�=:�G�\u001c",
      "�&�h�gI?�\u0006\u001fNa�D �*3h������\u0015��$X^O'��%�L��F�݃8~7��y���7�F��#��^JJ��-�\u0006S�\u001f�P�F8.rzVi�h����v{\u0014Z4�\u0017�q�n�U\t�/�\u0018\u001b����7�e;g&\u0013��\f",
      "���uYC\u000b",
      "_}��\"h�\u0014�Sn`y�\u001f����H��Yl�`��Qj��J?�A�)m��&h�f�m�\u001f��㸮k�y�Y�i\u001e",
      "�6�]ڌ\u0010\\��I����xeVU{Փ�W�{\u0014�<�\u0002�?\u00106�\u0010�\u0006\u000b",
      "�\u000b",
      "\n",
      "0�4\u0001>\u0005\u0014\u0003�=��\\_�͈a�|\u0019F�j�6�\u001b�\u0019�5����YE�����\u001e",
      "f\u0001��z\n",
      "\u0002U0j<6��\t\u001bLtL9�����jm5�\u0019F˺�X��2�S\u001b)\u0010�$��\\TR���Z��FE܃E\u001e",
      "v��,}� 6��\u0003c�y�L|\n",
      "���L{\u000f�fm3k��N���wu�؈���_\u0017�\u001c",
      "�{ZŒa��O1��ͣ��զ�r?b\u000fkw�!0\u0006��\u001a��h��Pb(,!)qk�,\u001a�\u000b",
      "lO���E�qH�zwT�[\u0004a��j#��Q�\u001d",
      "56��$�#�\u0018��\u0018��K`.^�&�Z��}��Z\u0013��Q�\"�UyH�?\n",
      "e�ؚGe�G|�\u0014L�\u0002-�Y\u001ff�!^��P`���~l�<\u001b��B.rZM\u001c",
      "\u0012�B��N�ʍ<\u0006_�l�\"8�(H2ٰ�\u001d",
      "�.�\\r7:\u000b",
      "+�6bu��f��=c����m�\u0015���\u001e",
      "��nI�\u0011u\u000b",
      "�+�M|\u001d",
      "\u001a\u0005�h���㽂��kO)���}9۝���!κ9èH\n",
      "*v\u0011��^p��VV�+�i�Tw\t�qF�\u0019`��㓰�E�M�������Y��Bv\u0014�����{t3w�\u000e���:a�L�41L�0:an�5�*��b�����,\u001d",
      "v�}�\u001b�=�ΰ\u0003\u0015\u0010/:q�eƠ{9�U`]�t�c�h�\n",
      "�0=\u001b\\@\u0005\u0015�Ȝk0�_\u0016���'�N�Y*T\u0015B\u0015x���\u000f\u001fZF�R\u000b",
      "\u001f��)7�J�$a%~+���bb��a�V\u0004�\u0001�e%��kl7?�\u0018[<³�\u0000\u0006T���N�gg�4���\u0007�`\u00103\u000e|rP��hۯ�+�*R�K��\u0019�0\u000ehGApP�ذU63<ɜ��\u0005〚�$�j�L�Wݮ� \u0003j\n",
      "!N�\u001c",
      "\u0004�\u0001A\u0010\u0004A\u0010\u0004A\u0010\u0004A\u0010\u0004A\u0010\u0004A\u0010\u0004A\u0010\u0004A\u0010\u0004A\u0010\u0004A\u0010\u0004A\u0010\u0004A\u0010\u0004A\u0010\u0004A\u0010\u0004A\u0010\u0004A\u0010\u0004A\u0010\u0004A\u0010\u0004A\u0010\u0004A\u0010\u0004A\u0010\u0004A\u0010\u0004A\u0010\u0004A\u0010\u0004A\u0010\u0004A\u0010\u0004A\u0010\u0004A\u0010\u0004A\u0010\u0004A\u0010\u0004A\u0010\u0004A\u0010\u0004A\u0010\u0004AP�do��\u0001AI=l��\u0001A\u0000\u0004�\u0000�>��\n",
      "��Cݮa;�6��x2����y-\u0000\u0004�R�A �\u001f�5�\u0004�fw�3F֘�3bd���u�(@��vƨ\u001fd\u0018Ƞ$@���\u0000\u0004j\u0014 \u000f\u000f�\u001c",
      "�\f",
      "\u000b",
      "�\u001e",
      "J\u0004�\u0005�\u0000��\u0003�oJ\u0001\u0019Ȇ��P. ��<\u0000\u00025\n",
      "�\u0005y\\|܁����\u0005�'z���q���5@C�:'\u0001��y�\u0001���C1 \u0006�\u001c",
      "5�R\u0001����\tH�q\u0006}�Oqj{��}_CK>�]k��\f",
      "N7�N�;�\u0003@J\u0004Dh![\u0003)\u0011�X��� �� �����,�\u0005߶�j��Y�p\u001e",
      "�;�\u0013�cZ��\u0016�bc��\f",
      "v�Vc\f",
      "eW\u001e",
      "��\u0001qD,��\u001aH����9�7�.o\u001c",
      "ʣ��#D��ּ�\u0001q����z\u001c",
      "7ͽ`��\u000eՊ�R�l�\u0002��g>Vf\u0000\u0000\u0012�IDAT\u0000�\u0011\u0001�\u0019R\u001e",
      "�'�r\u0001����\u001b�T\u0016�\u0006�A\u0019��\u0016\u0004���\u0017�/�r\n",
      "G�9T*�r�a��\u001bF�%}\u0019 ��I�\u0016}\u001c",
      "s�Zoc�?C\u001c",
      "\u0010�\u0001�\u0014Z\u0007�Āl~�\u0010\u0018H��آ\u001f��\u0011#d([l�Ͱ�<E/\u0012@���\u001c",
      "��ǱT�m�\u001c",
      "�\u0010\u0003�\u0019\u0000\u0010-@\u001c",
      "AeG\f",
      "\u0010���\f",
      "�T@:�\u0001b��7��X6g�%�_qǝ\u0018\u0010/c#�#z\u001c",
      "G�W2HN̲b��.\u001e",
      "\u0000Q\u0007��Q�ۍݓ��h��\u0007d�\u0019Z�/8Y��u\u0004G�\u0016l%Y��\u000b",
      "\u0018J�^��8��\u001a~��X�;����.�%\u0002$� \u0000Q\u0006���\u000fҍ]�Mٻ\u0013�R\u0001�s�Gl\u0018\u000f�̿����K�X�\u0019V���\n",
      "W3���ǣ�t\u0001�\u000e ۜ�ё\u0002�z\u0014+~��\u0002d��`u�k\u0002��9��~h��k��}c�aD���\u0014�)�ܟ�\n",
      "@���\u001c",
      "ȓ��\u0000�\u0000@�\u0006��MOr\u0001�܃��\u0000\u0019�\u0002���w�\u0019�~\u0000\u0004�p5���\u0001q\u0004��Um���\u0003\u0012�c\u0019IO�\u0000Q\u0007��}N|@�?���V& �|!]\u0019\u0010#9<�Y%�\u0000\u0004��~=��\u000f���\u001c",
      "��\u0000be<f7�\u0005k��ۡZ\u0019 v�ö$k\u0003N�\u001c",
      "�H?J�7�R�be\u00022\u0010?\u000e�\u0006���/\u001d",
      "pq~a(Y�1�A��\u0001 �\u000e�-�L\u0001��}gs廝�\u0000�J��\u001a�9V_>��Ȋ��s,> ��q\u001e",
      "�\u001fG<_�%�k.�v\u001bv��\"\u0006y��l@\"\u0016�2��\u0001髍&�\u0003�)�aٲr�>o��\u001f�]�Ǳ�\u0000����~\u0006[\t�( &\u0000)��g\u001a�mQ�x>]\u0019 \u0003�&\u0011�͛?�2�$��\u000b",
      "�0����c�\u0001�O��W�y�:H\u0007�d\u0001�n\u001c",
      "ח���\u0000�X��edJ\u0007�M�w) \u000f\u001d",
      "�\u001c",
      "���aY�\u0003��1����c�\u0001�M��\" 6\u0000�\u0002��Ph\u001aCQ��\u0001�3\u0010��N�F׼R�96o���X&\u0007�h�)���: \u000f����\u0001�>CJC\u0000R\u0005 ��J���\u0004�\u0016V\tU\n",
      "�A�B@,��#~��\\N܉��\u0004C7w�k-�X��\u0016�\u0001 �\u0005��Ɍ\u0002\u0007��\u0010����t�\u0004��)����\u0013k<\u001e",
      "wɧ�{\u001bQ\u0003�A�^(\u0000�\u0005 ��\u0018��\u0000qx�Ǝ�g�X��x3,�Jz\u000e@\u0006�]I\u0007 M\u0001�\n",
      "\u0001q��^}�����r\u000e�����\u001a�\u0004H�ռCi5�\u0007@v\u0002��\u0004�-)\u0017,\f",
      "H�9�����om0��c�-���M��m��+y�(\u0001�p.��\u0017e\u0000R\u0012 }�\u0000\u0011\u0003�q�\u0003$�G4\u0015��a\u001b�t�eE\u0010�\u0014��W�W\u0003���J��eW\"#/�=tص\u0000H5�\f",
      "x�����\n",
      "�O=�C����R#��'�\u0019���\u0011�k��\u0012\u001b�/7�3tS��\u0003��M�� ��;\u0006d�(\f",
      "vq�\u001e",
      "�\u001d",
      "D\u0019Rs��rL\u0011O�\u000b",
      "��y�x�8�}\"���)�\u0004 �%J?$��v7'���\u001e",
      ":�\u001d",
      "��\u0007�\u001e",
      "w\u0006?\u001aO\f",
      "�,��猸*��j7\t\u0017�T\u0003�����\u0001\u0019rW��a~���\u0019�¸�D�xb�Yʔ%���b �u�P�9\u0000H��d\u001d",
      "P+ ���3�x��=��g�\u0001��_�Y���w�Y\u0001S\u0012\u000fY�J\u0000��{w\u0007��9�)y3}~��0{��M�*��� �+�����>/[�H�\u0000R\u0016 ���+@��sc�:���{q��#��\u0019��\n",
      "!�{�\u0003H���\u0006�������\u0003��#JH\u0016 \tB\u000e\u0017\u0010�؊���\u0003��\u001e",
      "r\u0000�|��\u0001\"�#BH& qB\u000e\u0016\u0010��ڎ��\u0003��\u001e",
      "�\u000020�H�|u=A��\u0011��Z�,��?���5\u0014;�G�A��\u0001�\u0017I�\u0014vb5�o�K�\u001d",
      "c��V�\u0005&O+̺U��<���\u001e",
      "\u0006�\u0014�\u001fw#W�\u0003\u001d",
      "�L�\u001b\f",
      "�n�vJ}d��y-t���\u0005���8~@�%�kŞa�J=\u0017#\u0002�?��c\u000eA\u0000\u0004� \u0000\u0002A\u0000\u0004�\u0004\u0001\u0002 \u0010\u0004@�@\u0010\u0000� \u0000\u0002A\u0000\u0004�@\u0010\u0000� \u0000\u0002A\u0000\u0004���`�\u001b\u0004A\u0010\u0004A\u0010\u0004A\u0010\u0004A\u0010\u0004A\u0010\u0004A\u0010\u0004A\u0010\u0004A\u0010\u0004A\u0010\u0004A\u0010\u0004A\u0010\u0004A\u0010\u0004A\u0010\u0004A\u0010\u0004A\u0010\u0004A\u0010\u0004A\u0010\u0004A\u0010\u0004A\u0010\u0004A\u0010\u0004A\u0010\u0004A\u0010\u0004A\u0010\u0004A\u0010\u0004A\u0010\u0004A-���Ȉ�@�{��\u001b\u0016�\u0017�ߐ?NJ���h�\u0007����&#�������P�G�?��6\f",
      "�U\u0016\\��\u000b",
      "�|?\"S�\u001e",
      "��3>�\u000f<E�e�[�\u000f���=�7䏓����n�� W_�[���ڢ����J?��q����^�`�\u000ex�?p�W8���p\n",
      "�D\t9P@2��zt5\u001a\u0010���\u000b",
      "���b@�|�\tQ\u0001$Bȁ\u0002b�}b�\u0002D�=�\u0002��j1 ݬg�*\u0003����\u0001�&ԏ}b�+��R��}sO6\"�`7\u001c",
      "���o�\u001fc����qRr؏nF+��]�=�\u0015}����3�oZ�gq�oQ����{�&\u001f,�r\u000b",
      "߻Ϳʢ\u00175����\u0015�)�\u001a��\u0013�r�\u000f�����M��=6yw�2S�}�Z�.�����\u0007��B\u000b",
      "\u0011>��)�\\@��\u0007\u0013_n+s�3���\u0017����+����JG�t{�FX\u001c",
      "\u00101\u001f�\u0006$f!;\u0000D�ŧ�g݀�1\u001f�\u0001���r@��\u0005D���/R̀�3\u001f��HUKq\u0007����\u0003bdV|IC^ \u0006�\u0016�\u0010=X����\u001fq�/�]���#@��\u000f��\u0014`K��9 yՕ%�r\u0002R��\u000f�\u0006����;�\u0001d������\u0003�2��\u0010\u0010�(=\u001d",
      "��\n",
      "N�^\u001b \u0007��6 *|�\u0016�~�c!�\u0003�������u\u0001|�\u0002��G{\u0001q8\u001f�\" �\u001d",
      "�)��y��N^\u000e�լ\u0007���C\u0013\u00105>�\u000b",
      "�6�-{W\u0004D��)�d�\u000f��דw�j\u0001�0��\u0003D��\u0016\u0003�\u000b",
      "��\u0007�\u0013�������k\u0001�@��\u0002$�����# \u001c",
      "\u000b",
      "�\u001f\u0010N��O^P^�^\u0007 �\u000e ֐�#c�\u0000q\u0006\u000fY���\u0003�����\u0005���5\u0000bH�\u0005�) iY�����G�d�\u0007e@\"k\"�\n",
      "��n;��swԩ\u000f�I��A�M�\u0002�.�\u0005p:\u000fu+r�\u0004!vv�r���s7e�\u0011�I�^#6\u0018w\u0001Hl\u0006��ܚ�s���&-d\u0007�$��~�L�\u001b��\t���ղ$́\u0011��)Vi��^o�Bv\u0000�&J���3�$\u001e",
      "/F/\u0011\u0010#{2��\u0016�<��\u000fy�\u001f�\u0001R\u0012!��kħ\u0019�\u0000$~���Jc�\u0015.\n",
      "��<dB�\\@\u0006���;\u0003D�=�K*�,d\u0017�8�<��I�:�\u000e,��y\u0007��o���vR�\f",
      "���U��\n",
      "��{�\u0007�\u0017\u001d",
      "&r@���\u001c",
      "�\tH�!�\u001d",
      "\f",
      "���u\u00001��.\u0013\u0010c��س�@�\u0006K\u0014\u0010\u0016�G��\u0010@T�?��G��w��\u001e",
      "}4c��p;�\u0015���W���ud��\u0003 �e\\�\u0019��,ko\u0001�#�a'�l\u001f~�\u001b���\u0010��U\u000f����j\u0007\u000e\u0000�$:�:��@���D-d'�l�PF�Zo�Ώ�k\u0000$L\\Y\u0007�^�>XR�{����\u0003\u0012�\u0010E@���s9��N2\"\u001e",
      "D#���Kj}M\u001b�\u0007�^�\u001b����iC��D�޽ڷ��\u0012iQ�6$�%�\u0005�̞F\u001c",
      "0 \u0011���+ ۝S��\u0000��0���k�\u0015�\u001b�\u0002��Ս\u0004��=\u0005$�<r\u0017�t�˲�|ͥ�Ί�!�\u0017�\u0005$\u001a��{\n",
      "��{(\u0002��*@8\u0005d�&\u0016\u0000�\u0004B�c�ـ���\"�D��\u0002@�X\u001d",
      "\u0000R\u0012!���p@��C!@�v\u0001\"#��\u0000�َ��\u0003��\u001e",
      "\u001c",
      "@��(�˖;\f",
      "�7�*��/\u000b",
      "��rt}у����ջ�]�G��x����)�$w\u000f\u0000q+\u0007$��k\u0003 �R�+\u0000����\u0019��\u001a�)\u0006��Ⱥ�`��x���\u0019�����\u0013\u0010ݏ��#���L��Sȟ[\u001d",
      "\u0010O����\u0014B�~�gwÐ\u0012N��8����$rF�\u0002�B��0F�\u001f��D\u001b�x�\u0007�!�\n",
      "\u0001\u0012�~+\u0000\u0011\u0013bu\u0000HI�D�V�\u0001Qx\u000f�\u0000qZ\u0006��\u0010�\u0003@J\"$:��\u000fH�{(\u0006�v��\u0004\u0010>!V\u0007�he{���c+���r���E�#r\u001f�+G�\u0019�1�=�\u0002����7\\�W�^Xv�_�+z07�Y\u0004\u0017����D�(�\u001b���ڢ����������������������������������������������������������������������������\u00035}�05]d�\u0000\u0000\u0000\u0000IEND�B`�\n"
     ]
    }
   ],
   "source": [
    "print(r.text)"
   ]
  },
  {
   "cell_type": "markdown",
   "metadata": {},
   "source": [
    "We can look at the <code>'Content-Type'</code>.\n"
   ]
  },
  {
   "cell_type": "code",
   "execution_count": 28,
   "metadata": {},
   "outputs": [
    {
     "data": {
      "text/plain": [
       "'image/png'"
      ]
     },
     "execution_count": 28,
     "metadata": {},
     "output_type": "execute_result"
    }
   ],
   "source": [
    "r.headers['Content-Type']"
   ]
  },
  {
   "cell_type": "markdown",
   "metadata": {},
   "source": [
    "As the content <code>'Content-Type'</code> is in the <code>JSON</code> format we can use the method <code>json()</code>, it returns a Python <code>dict</code>:\n"
   ]
  },
  {
   "cell_type": "code",
   "execution_count": 29,
   "metadata": {},
   "outputs": [
    {
     "ename": "JSONDecodeError",
     "evalue": "Expecting value: line 1 column 1 (char 0)",
     "output_type": "error",
     "traceback": [
      "\u001b[0;31m---------------------------------------------------------------------------\u001b[0m",
      "\u001b[0;31mJSONDecodeError\u001b[0m                           Traceback (most recent call last)",
      "\u001b[0;32m~/conda/envs/python/lib/python3.7/site-packages/requests/models.py\u001b[0m in \u001b[0;36mjson\u001b[0;34m(self, **kwargs)\u001b[0m\n\u001b[1;32m    970\u001b[0m         \u001b[0;32mtry\u001b[0m\u001b[0;34m:\u001b[0m\u001b[0;34m\u001b[0m\u001b[0;34m\u001b[0m\u001b[0m\n\u001b[0;32m--> 971\u001b[0;31m             \u001b[0;32mreturn\u001b[0m \u001b[0mcomplexjson\u001b[0m\u001b[0;34m.\u001b[0m\u001b[0mloads\u001b[0m\u001b[0;34m(\u001b[0m\u001b[0mself\u001b[0m\u001b[0;34m.\u001b[0m\u001b[0mtext\u001b[0m\u001b[0;34m,\u001b[0m \u001b[0;34m**\u001b[0m\u001b[0mkwargs\u001b[0m\u001b[0;34m)\u001b[0m\u001b[0;34m\u001b[0m\u001b[0;34m\u001b[0m\u001b[0m\n\u001b[0m\u001b[1;32m    972\u001b[0m         \u001b[0;32mexcept\u001b[0m \u001b[0mJSONDecodeError\u001b[0m \u001b[0;32mas\u001b[0m \u001b[0me\u001b[0m\u001b[0;34m:\u001b[0m\u001b[0;34m\u001b[0m\u001b[0;34m\u001b[0m\u001b[0m\n",
      "\u001b[0;32m~/conda/envs/python/lib/python3.7/json/__init__.py\u001b[0m in \u001b[0;36mloads\u001b[0;34m(s, encoding, cls, object_hook, parse_float, parse_int, parse_constant, object_pairs_hook, **kw)\u001b[0m\n\u001b[1;32m    347\u001b[0m             parse_constant is None and object_pairs_hook is None and not kw):\n\u001b[0;32m--> 348\u001b[0;31m         \u001b[0;32mreturn\u001b[0m \u001b[0m_default_decoder\u001b[0m\u001b[0;34m.\u001b[0m\u001b[0mdecode\u001b[0m\u001b[0;34m(\u001b[0m\u001b[0ms\u001b[0m\u001b[0;34m)\u001b[0m\u001b[0;34m\u001b[0m\u001b[0;34m\u001b[0m\u001b[0m\n\u001b[0m\u001b[1;32m    349\u001b[0m     \u001b[0;32mif\u001b[0m \u001b[0mcls\u001b[0m \u001b[0;32mis\u001b[0m \u001b[0;32mNone\u001b[0m\u001b[0;34m:\u001b[0m\u001b[0;34m\u001b[0m\u001b[0;34m\u001b[0m\u001b[0m\n",
      "\u001b[0;32m~/conda/envs/python/lib/python3.7/json/decoder.py\u001b[0m in \u001b[0;36mdecode\u001b[0;34m(self, s, _w)\u001b[0m\n\u001b[1;32m    336\u001b[0m         \"\"\"\n\u001b[0;32m--> 337\u001b[0;31m         \u001b[0mobj\u001b[0m\u001b[0;34m,\u001b[0m \u001b[0mend\u001b[0m \u001b[0;34m=\u001b[0m \u001b[0mself\u001b[0m\u001b[0;34m.\u001b[0m\u001b[0mraw_decode\u001b[0m\u001b[0;34m(\u001b[0m\u001b[0ms\u001b[0m\u001b[0;34m,\u001b[0m \u001b[0midx\u001b[0m\u001b[0;34m=\u001b[0m\u001b[0m_w\u001b[0m\u001b[0;34m(\u001b[0m\u001b[0ms\u001b[0m\u001b[0;34m,\u001b[0m \u001b[0;36m0\u001b[0m\u001b[0;34m)\u001b[0m\u001b[0;34m.\u001b[0m\u001b[0mend\u001b[0m\u001b[0;34m(\u001b[0m\u001b[0;34m)\u001b[0m\u001b[0;34m)\u001b[0m\u001b[0;34m\u001b[0m\u001b[0;34m\u001b[0m\u001b[0m\n\u001b[0m\u001b[1;32m    338\u001b[0m         \u001b[0mend\u001b[0m \u001b[0;34m=\u001b[0m \u001b[0m_w\u001b[0m\u001b[0;34m(\u001b[0m\u001b[0ms\u001b[0m\u001b[0;34m,\u001b[0m \u001b[0mend\u001b[0m\u001b[0;34m)\u001b[0m\u001b[0;34m.\u001b[0m\u001b[0mend\u001b[0m\u001b[0;34m(\u001b[0m\u001b[0;34m)\u001b[0m\u001b[0;34m\u001b[0m\u001b[0;34m\u001b[0m\u001b[0m\n",
      "\u001b[0;32m~/conda/envs/python/lib/python3.7/json/decoder.py\u001b[0m in \u001b[0;36mraw_decode\u001b[0;34m(self, s, idx)\u001b[0m\n\u001b[1;32m    354\u001b[0m         \u001b[0;32mexcept\u001b[0m \u001b[0mStopIteration\u001b[0m \u001b[0;32mas\u001b[0m \u001b[0merr\u001b[0m\u001b[0;34m:\u001b[0m\u001b[0;34m\u001b[0m\u001b[0;34m\u001b[0m\u001b[0m\n\u001b[0;32m--> 355\u001b[0;31m             \u001b[0;32mraise\u001b[0m \u001b[0mJSONDecodeError\u001b[0m\u001b[0;34m(\u001b[0m\u001b[0;34m\"Expecting value\"\u001b[0m\u001b[0;34m,\u001b[0m \u001b[0ms\u001b[0m\u001b[0;34m,\u001b[0m \u001b[0merr\u001b[0m\u001b[0;34m.\u001b[0m\u001b[0mvalue\u001b[0m\u001b[0;34m)\u001b[0m \u001b[0;32mfrom\u001b[0m \u001b[0;32mNone\u001b[0m\u001b[0;34m\u001b[0m\u001b[0;34m\u001b[0m\u001b[0m\n\u001b[0m\u001b[1;32m    356\u001b[0m         \u001b[0;32mreturn\u001b[0m \u001b[0mobj\u001b[0m\u001b[0;34m,\u001b[0m \u001b[0mend\u001b[0m\u001b[0;34m\u001b[0m\u001b[0;34m\u001b[0m\u001b[0m\n",
      "\u001b[0;31mJSONDecodeError\u001b[0m: Expecting value: line 1 column 1 (char 0)",
      "\nDuring handling of the above exception, another exception occurred:\n",
      "\u001b[0;31mJSONDecodeError\u001b[0m                           Traceback (most recent call last)",
      "\u001b[0;32m/tmp/ipykernel_342/661903446.py\u001b[0m in \u001b[0;36m<module>\u001b[0;34m\u001b[0m\n\u001b[0;32m----> 1\u001b[0;31m \u001b[0mr\u001b[0m\u001b[0;34m.\u001b[0m\u001b[0mjson\u001b[0m\u001b[0;34m(\u001b[0m\u001b[0;34m)\u001b[0m\u001b[0;34m\u001b[0m\u001b[0;34m\u001b[0m\u001b[0m\n\u001b[0m",
      "\u001b[0;32m~/conda/envs/python/lib/python3.7/site-packages/requests/models.py\u001b[0m in \u001b[0;36mjson\u001b[0;34m(self, **kwargs)\u001b[0m\n\u001b[1;32m    973\u001b[0m             \u001b[0;31m# Catch JSON-related errors and raise as requests.JSONDecodeError\u001b[0m\u001b[0;34m\u001b[0m\u001b[0;34m\u001b[0m\u001b[0;34m\u001b[0m\u001b[0m\n\u001b[1;32m    974\u001b[0m             \u001b[0;31m# This aliases json.JSONDecodeError and simplejson.JSONDecodeError\u001b[0m\u001b[0;34m\u001b[0m\u001b[0;34m\u001b[0m\u001b[0;34m\u001b[0m\u001b[0m\n\u001b[0;32m--> 975\u001b[0;31m             \u001b[0;32mraise\u001b[0m \u001b[0mRequestsJSONDecodeError\u001b[0m\u001b[0;34m(\u001b[0m\u001b[0me\u001b[0m\u001b[0;34m.\u001b[0m\u001b[0mmsg\u001b[0m\u001b[0;34m,\u001b[0m \u001b[0me\u001b[0m\u001b[0;34m.\u001b[0m\u001b[0mdoc\u001b[0m\u001b[0;34m,\u001b[0m \u001b[0me\u001b[0m\u001b[0;34m.\u001b[0m\u001b[0mpos\u001b[0m\u001b[0;34m)\u001b[0m\u001b[0;34m\u001b[0m\u001b[0;34m\u001b[0m\u001b[0m\n\u001b[0m\u001b[1;32m    976\u001b[0m \u001b[0;34m\u001b[0m\u001b[0m\n\u001b[1;32m    977\u001b[0m     \u001b[0;34m@\u001b[0m\u001b[0mproperty\u001b[0m\u001b[0;34m\u001b[0m\u001b[0;34m\u001b[0m\u001b[0m\n",
      "\u001b[0;31mJSONDecodeError\u001b[0m: Expecting value: line 1 column 1 (char 0)"
     ]
    }
   ],
   "source": [
    "r.json()"
   ]
  },
  {
   "cell_type": "markdown",
   "metadata": {},
   "source": [
    "The key <code>args</code> has the name and values:\n"
   ]
  },
  {
   "cell_type": "code",
   "execution_count": 30,
   "metadata": {},
   "outputs": [
    {
     "ename": "JSONDecodeError",
     "evalue": "Expecting value: line 1 column 1 (char 0)",
     "output_type": "error",
     "traceback": [
      "\u001b[0;31m---------------------------------------------------------------------------\u001b[0m",
      "\u001b[0;31mJSONDecodeError\u001b[0m                           Traceback (most recent call last)",
      "\u001b[0;32m~/conda/envs/python/lib/python3.7/site-packages/requests/models.py\u001b[0m in \u001b[0;36mjson\u001b[0;34m(self, **kwargs)\u001b[0m\n\u001b[1;32m    970\u001b[0m         \u001b[0;32mtry\u001b[0m\u001b[0;34m:\u001b[0m\u001b[0;34m\u001b[0m\u001b[0;34m\u001b[0m\u001b[0m\n\u001b[0;32m--> 971\u001b[0;31m             \u001b[0;32mreturn\u001b[0m \u001b[0mcomplexjson\u001b[0m\u001b[0;34m.\u001b[0m\u001b[0mloads\u001b[0m\u001b[0;34m(\u001b[0m\u001b[0mself\u001b[0m\u001b[0;34m.\u001b[0m\u001b[0mtext\u001b[0m\u001b[0;34m,\u001b[0m \u001b[0;34m**\u001b[0m\u001b[0mkwargs\u001b[0m\u001b[0;34m)\u001b[0m\u001b[0;34m\u001b[0m\u001b[0;34m\u001b[0m\u001b[0m\n\u001b[0m\u001b[1;32m    972\u001b[0m         \u001b[0;32mexcept\u001b[0m \u001b[0mJSONDecodeError\u001b[0m \u001b[0;32mas\u001b[0m \u001b[0me\u001b[0m\u001b[0;34m:\u001b[0m\u001b[0;34m\u001b[0m\u001b[0;34m\u001b[0m\u001b[0m\n",
      "\u001b[0;32m~/conda/envs/python/lib/python3.7/json/__init__.py\u001b[0m in \u001b[0;36mloads\u001b[0;34m(s, encoding, cls, object_hook, parse_float, parse_int, parse_constant, object_pairs_hook, **kw)\u001b[0m\n\u001b[1;32m    347\u001b[0m             parse_constant is None and object_pairs_hook is None and not kw):\n\u001b[0;32m--> 348\u001b[0;31m         \u001b[0;32mreturn\u001b[0m \u001b[0m_default_decoder\u001b[0m\u001b[0;34m.\u001b[0m\u001b[0mdecode\u001b[0m\u001b[0;34m(\u001b[0m\u001b[0ms\u001b[0m\u001b[0;34m)\u001b[0m\u001b[0;34m\u001b[0m\u001b[0;34m\u001b[0m\u001b[0m\n\u001b[0m\u001b[1;32m    349\u001b[0m     \u001b[0;32mif\u001b[0m \u001b[0mcls\u001b[0m \u001b[0;32mis\u001b[0m \u001b[0;32mNone\u001b[0m\u001b[0;34m:\u001b[0m\u001b[0;34m\u001b[0m\u001b[0;34m\u001b[0m\u001b[0m\n",
      "\u001b[0;32m~/conda/envs/python/lib/python3.7/json/decoder.py\u001b[0m in \u001b[0;36mdecode\u001b[0;34m(self, s, _w)\u001b[0m\n\u001b[1;32m    336\u001b[0m         \"\"\"\n\u001b[0;32m--> 337\u001b[0;31m         \u001b[0mobj\u001b[0m\u001b[0;34m,\u001b[0m \u001b[0mend\u001b[0m \u001b[0;34m=\u001b[0m \u001b[0mself\u001b[0m\u001b[0;34m.\u001b[0m\u001b[0mraw_decode\u001b[0m\u001b[0;34m(\u001b[0m\u001b[0ms\u001b[0m\u001b[0;34m,\u001b[0m \u001b[0midx\u001b[0m\u001b[0;34m=\u001b[0m\u001b[0m_w\u001b[0m\u001b[0;34m(\u001b[0m\u001b[0ms\u001b[0m\u001b[0;34m,\u001b[0m \u001b[0;36m0\u001b[0m\u001b[0;34m)\u001b[0m\u001b[0;34m.\u001b[0m\u001b[0mend\u001b[0m\u001b[0;34m(\u001b[0m\u001b[0;34m)\u001b[0m\u001b[0;34m)\u001b[0m\u001b[0;34m\u001b[0m\u001b[0;34m\u001b[0m\u001b[0m\n\u001b[0m\u001b[1;32m    338\u001b[0m         \u001b[0mend\u001b[0m \u001b[0;34m=\u001b[0m \u001b[0m_w\u001b[0m\u001b[0;34m(\u001b[0m\u001b[0ms\u001b[0m\u001b[0;34m,\u001b[0m \u001b[0mend\u001b[0m\u001b[0;34m)\u001b[0m\u001b[0;34m.\u001b[0m\u001b[0mend\u001b[0m\u001b[0;34m(\u001b[0m\u001b[0;34m)\u001b[0m\u001b[0;34m\u001b[0m\u001b[0;34m\u001b[0m\u001b[0m\n",
      "\u001b[0;32m~/conda/envs/python/lib/python3.7/json/decoder.py\u001b[0m in \u001b[0;36mraw_decode\u001b[0;34m(self, s, idx)\u001b[0m\n\u001b[1;32m    354\u001b[0m         \u001b[0;32mexcept\u001b[0m \u001b[0mStopIteration\u001b[0m \u001b[0;32mas\u001b[0m \u001b[0merr\u001b[0m\u001b[0;34m:\u001b[0m\u001b[0;34m\u001b[0m\u001b[0;34m\u001b[0m\u001b[0m\n\u001b[0;32m--> 355\u001b[0;31m             \u001b[0;32mraise\u001b[0m \u001b[0mJSONDecodeError\u001b[0m\u001b[0;34m(\u001b[0m\u001b[0;34m\"Expecting value\"\u001b[0m\u001b[0;34m,\u001b[0m \u001b[0ms\u001b[0m\u001b[0;34m,\u001b[0m \u001b[0merr\u001b[0m\u001b[0;34m.\u001b[0m\u001b[0mvalue\u001b[0m\u001b[0;34m)\u001b[0m \u001b[0;32mfrom\u001b[0m \u001b[0;32mNone\u001b[0m\u001b[0;34m\u001b[0m\u001b[0;34m\u001b[0m\u001b[0m\n\u001b[0m\u001b[1;32m    356\u001b[0m         \u001b[0;32mreturn\u001b[0m \u001b[0mobj\u001b[0m\u001b[0;34m,\u001b[0m \u001b[0mend\u001b[0m\u001b[0;34m\u001b[0m\u001b[0;34m\u001b[0m\u001b[0m\n",
      "\u001b[0;31mJSONDecodeError\u001b[0m: Expecting value: line 1 column 1 (char 0)",
      "\nDuring handling of the above exception, another exception occurred:\n",
      "\u001b[0;31mJSONDecodeError\u001b[0m                           Traceback (most recent call last)",
      "\u001b[0;32m/tmp/ipykernel_342/2458426581.py\u001b[0m in \u001b[0;36m<module>\u001b[0;34m\u001b[0m\n\u001b[0;32m----> 1\u001b[0;31m \u001b[0mr\u001b[0m\u001b[0;34m.\u001b[0m\u001b[0mjson\u001b[0m\u001b[0;34m(\u001b[0m\u001b[0;34m)\u001b[0m\u001b[0;34m[\u001b[0m\u001b[0;34m'args'\u001b[0m\u001b[0;34m]\u001b[0m\u001b[0;34m\u001b[0m\u001b[0;34m\u001b[0m\u001b[0m\n\u001b[0m",
      "\u001b[0;32m~/conda/envs/python/lib/python3.7/site-packages/requests/models.py\u001b[0m in \u001b[0;36mjson\u001b[0;34m(self, **kwargs)\u001b[0m\n\u001b[1;32m    973\u001b[0m             \u001b[0;31m# Catch JSON-related errors and raise as requests.JSONDecodeError\u001b[0m\u001b[0;34m\u001b[0m\u001b[0;34m\u001b[0m\u001b[0;34m\u001b[0m\u001b[0m\n\u001b[1;32m    974\u001b[0m             \u001b[0;31m# This aliases json.JSONDecodeError and simplejson.JSONDecodeError\u001b[0m\u001b[0;34m\u001b[0m\u001b[0;34m\u001b[0m\u001b[0;34m\u001b[0m\u001b[0m\n\u001b[0;32m--> 975\u001b[0;31m             \u001b[0;32mraise\u001b[0m \u001b[0mRequestsJSONDecodeError\u001b[0m\u001b[0;34m(\u001b[0m\u001b[0me\u001b[0m\u001b[0;34m.\u001b[0m\u001b[0mmsg\u001b[0m\u001b[0;34m,\u001b[0m \u001b[0me\u001b[0m\u001b[0;34m.\u001b[0m\u001b[0mdoc\u001b[0m\u001b[0;34m,\u001b[0m \u001b[0me\u001b[0m\u001b[0;34m.\u001b[0m\u001b[0mpos\u001b[0m\u001b[0;34m)\u001b[0m\u001b[0;34m\u001b[0m\u001b[0;34m\u001b[0m\u001b[0m\n\u001b[0m\u001b[1;32m    976\u001b[0m \u001b[0;34m\u001b[0m\u001b[0m\n\u001b[1;32m    977\u001b[0m     \u001b[0;34m@\u001b[0m\u001b[0mproperty\u001b[0m\u001b[0;34m\u001b[0m\u001b[0;34m\u001b[0m\u001b[0m\n",
      "\u001b[0;31mJSONDecodeError\u001b[0m: Expecting value: line 1 column 1 (char 0)"
     ]
    }
   ],
   "source": [
    "r.json()['args']"
   ]
  },
  {
   "cell_type": "markdown",
   "metadata": {},
   "source": [
    "<h2 id=\"POST\">Post Requests  </h2>\n"
   ]
  },
  {
   "cell_type": "markdown",
   "metadata": {},
   "source": [
    "Like a <code>GET</code> request, a <code>POST</code> is used to send data to a server, but the <code>POST</code> request sends the data in a request body. In order to send the Post Request in Python, in the <code>URL</code> we change the route to <code>POST</code>:\n"
   ]
  },
  {
   "cell_type": "code",
   "execution_count": null,
   "metadata": {},
   "outputs": [],
   "source": [
    "url_post='http://httpbin.org/post'"
   ]
  },
  {
   "cell_type": "markdown",
   "metadata": {},
   "source": [
    "This endpoint will expect data as a file or as a form. A form is convenient way to configure an HTTP request to send data to a server.\n"
   ]
  },
  {
   "cell_type": "markdown",
   "metadata": {},
   "source": [
    "To make a <code>POST</code> request we use the <code>post()</code> function, the variable <code>payload</code> is passed to the parameter <code> data </code>:\n"
   ]
  },
  {
   "cell_type": "code",
   "execution_count": 31,
   "metadata": {},
   "outputs": [
    {
     "ename": "NameError",
     "evalue": "name 'url_post' is not defined",
     "output_type": "error",
     "traceback": [
      "\u001b[0;31m---------------------------------------------------------------------------\u001b[0m",
      "\u001b[0;31mNameError\u001b[0m                                 Traceback (most recent call last)",
      "\u001b[0;32m/tmp/ipykernel_342/3645089813.py\u001b[0m in \u001b[0;36m<module>\u001b[0;34m\u001b[0m\n\u001b[0;32m----> 1\u001b[0;31m \u001b[0mr_post\u001b[0m\u001b[0;34m=\u001b[0m\u001b[0mrequests\u001b[0m\u001b[0;34m.\u001b[0m\u001b[0mpost\u001b[0m\u001b[0;34m(\u001b[0m\u001b[0murl_post\u001b[0m\u001b[0;34m,\u001b[0m\u001b[0mdata\u001b[0m\u001b[0;34m=\u001b[0m\u001b[0mpayload\u001b[0m\u001b[0;34m)\u001b[0m\u001b[0;34m\u001b[0m\u001b[0;34m\u001b[0m\u001b[0m\n\u001b[0m",
      "\u001b[0;31mNameError\u001b[0m: name 'url_post' is not defined"
     ]
    }
   ],
   "source": [
    "r_post=requests.post(url_post,data=payload)"
   ]
  },
  {
   "cell_type": "markdown",
   "metadata": {},
   "source": [
    "Comparing the URL from the response object of the <code>GET</code> and <code>POST</code> request we see the <code>POST</code> request has no name or value pairs.\n"
   ]
  },
  {
   "cell_type": "code",
   "execution_count": null,
   "metadata": {},
   "outputs": [],
   "source": [
    "print(\"POST request URL:\",r_post.url )\n",
    "print(\"GET request URL:\",r.url)"
   ]
  },
  {
   "cell_type": "markdown",
   "metadata": {},
   "source": [
    "We can compare the <code>POST</code> and <code>GET</code> request body, we see only the <code>POST</code> request has a body:\n"
   ]
  },
  {
   "cell_type": "code",
   "execution_count": null,
   "metadata": {},
   "outputs": [],
   "source": [
    "print(\"POST request body:\",r_post.request.body)\n",
    "print(\"GET request body:\",r.request.body)"
   ]
  },
  {
   "cell_type": "markdown",
   "metadata": {},
   "source": [
    "We can view the form as well:\n"
   ]
  },
  {
   "cell_type": "code",
   "execution_count": null,
   "metadata": {},
   "outputs": [],
   "source": [
    "r_post.json()['form']"
   ]
  },
  {
   "cell_type": "markdown",
   "metadata": {},
   "source": [
    "There is a lot more you can do. Check out <a href=\"https://requests.readthedocs.io/en/master/?utm_medium=Exinfluencer&utm_source=Exinfluencer&utm_content=000026UJ&utm_term=10006555&utm_id=NA-SkillsNetwork-Channel-SkillsNetworkCoursesIBMDeveloperSkillsNetworkPY0101ENSkillsNetwork19487395-2022-01-01\">Requests </a> for more.\n"
   ]
  },
  {
   "cell_type": "markdown",
   "metadata": {},
   "source": [
    "<hr>\n"
   ]
  },
  {
   "cell_type": "markdown",
   "metadata": {},
   "source": [
    "## Authors\n",
    "\n",
    "<p><a href=\"https://www.linkedin.com/in/joseph-s-50398b136/?utm_medium=Exinfluencer&utm_source=Exinfluencer&utm_content=000026UJ&utm_term=10006555&utm_id=NA-SkillsNetwork-Channel-SkillsNetworkCoursesIBMDeveloperSkillsNetworkPY0101ENSkillsNetwork19487395-2022-01-01\" target=\"_blank\">Joseph Santarcangelo</a> <br>A Data Scientist at IBM, and holds a PhD in Electrical Engineering. His research focused on using Machine Learning, Signal Processing, and Computer Vision to determine how videos impact human cognition. Joseph has been working for IBM since he completed his PhD.</p>\n"
   ]
  },
  {
   "cell_type": "markdown",
   "metadata": {},
   "source": [
    "### Other Contributors\n",
    "\n",
    "<a href=\"https://www.linkedin.com/in/jiahui-mavis-zhou-a4537814a?utm_medium=Exinfluencer&utm_source=Exinfluencer&utm_content=000026UJ&utm_term=10006555&utm_id=NA-SkillsNetwork-Channel-SkillsNetworkCoursesIBMDeveloperSkillsNetworkPY0101ENSkillsNetwork19487395-2022-01-01\">Mavis Zhou</a>\n"
   ]
  },
  {
   "cell_type": "markdown",
   "metadata": {},
   "source": [
    "## Change Log\n",
    "\n",
    "| Date (YYYY-MM-DD) | Version | Changed By | Change Description           |\n",
    "| ----------------- | ------- | ---------- | ---------------------------- |\n",
    "| 2021-12-20        | 2.1     | Malika     | Updated the links            |\n",
    "| 2020-09-02        | 2.0     | Simran     | Template updates to the file |\n",
    "|                   |         |            |                              |\n",
    "|                   |         |            |                              |\n",
    "\n",
    "## <h3 align=\"center\"> © IBM Corporation 2020. All rights reserved. <h3/>\n"
   ]
  }
 ],
 "metadata": {
  "kernelspec": {
   "display_name": "Python",
   "language": "python",
   "name": "conda-env-python-py"
  },
  "language_info": {
   "codemirror_mode": {
    "name": "ipython",
    "version": 3
   },
   "file_extension": ".py",
   "mimetype": "text/x-python",
   "name": "python",
   "nbconvert_exporter": "python",
   "pygments_lexer": "ipython3",
   "version": "3.7.12"
  }
 },
 "nbformat": 4,
 "nbformat_minor": 4
}
